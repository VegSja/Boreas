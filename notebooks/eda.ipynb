{
 "cells": [
  {
   "cell_type": "code",
   "execution_count": 2,
   "metadata": {
    "collapsed": true,
    "ExecuteTime": {
     "end_time": "2023-07-10T19:29:38.824657424Z",
     "start_time": "2023-07-10T19:29:38.269633102Z"
    }
   },
   "outputs": [],
   "source": [
    "import pandas as pd"
   ]
  },
  {
   "cell_type": "code",
   "execution_count": 3,
   "outputs": [
    {
     "data": {
      "text/plain": "        regId       RegionId  RegionName RegionTypeId  RegionTypeName  \\\n0        3001   Svalbard øst          20            B               0   \n0        3001   Svalbard øst          20            B               0   \n0        3001   Svalbard øst          20            B               0   \n0        3001   Svalbard øst          20            B               0   \n0        3001   Svalbard øst          20            B               0   \n...       ...            ...         ...          ...             ...   \n281883   3035  Vest-Telemark          10            A               1   \n282018   3035  Vest-Telemark          10            A               1   \n282141   3035  Vest-Telemark          10            A               1   \n282256   3035  Vest-Telemark          10            A               2   \n282373   3035  Vest-Telemark          10            A               2   \n\n                DangerLevel            ValidFrom              ValidTo  \\\n0       2018-01-01T00:00:00  2018-01-01T23:59:59  2018-01-01T17:00:00   \n0       2018-01-02T00:00:00  2018-01-02T23:59:59  2018-01-01T17:00:00   \n0       2018-01-03T00:00:00  2018-01-03T23:59:59  2018-01-03T17:00:00   \n0       2018-01-04T00:00:00  2018-01-04T23:59:59  2018-01-03T17:00:00   \n0       2018-01-05T00:00:00  2018-01-05T23:59:59  2018-01-05T17:00:00   \n...                     ...                  ...                  ...   \n281883  2021-12-27T00:00:00  2021-12-27T23:59:59  2021-12-28T16:00:00   \n282018  2021-12-28T00:00:00  2021-12-28T23:59:59  2021-12-29T16:00:00   \n282141  2021-12-29T00:00:00  2021-12-29T23:59:59  2021-12-30T16:00:00   \n282256  2021-12-30T00:00:00  2021-12-30T23:59:59  2021-12-31T16:00:00   \n282373  2021-12-31T00:00:00  2021-12-31T23:59:59  2022-01-01T16:00:00   \n\n                NextWarningTime  PublishTime  DangerIncreaseTime  \\\n0           2018-01-01T00:00:00          NaN                 NaN   \n0           2018-01-02T00:00:00          NaN                 NaN   \n0           2018-01-03T00:00:00          NaN                 NaN   \n0           2018-01-04T00:00:00          NaN                 NaN   \n0           2018-01-05T00:00:00          NaN                 NaN   \n...                         ...          ...                 ...   \n281883  2021-12-26T15:28:18.613          NaN                 NaN   \n282018  2021-12-27T15:28:08.153          NaN                 NaN   \n282141   2021-12-28T15:32:18.54          NaN                 NaN   \n282256  2021-12-29T15:27:27.127          NaN                 NaN   \n282373  2021-12-30T15:37:03.963          NaN                 NaN   \n\n                                                 MainText  LangKey  \n0                                            Ikke vurdert        1  \n0                                            Ikke vurdert        1  \n0                                            Ikke vurdert        1  \n0                                            Ikke vurdert        1  \n0                                            Ikke vurdert        1  \n...                                                   ...      ...  \n281883  Lite snø og generelt stabile forhold, kun muli...        1  \n282018  Lite snø og generelt stabile forhold, kun muli...        1  \n282141  Lite snø og generelt stabile forhold, kun muli...        1  \n282256  Mildvær og regn gir fare for natulig utløste v...        1  \n282373  Mildvær og regn gir fare for natulig utløste v...        1  \n\n[33603 rows x 13 columns]",
      "text/html": "<div>\n<style scoped>\n    .dataframe tbody tr th:only-of-type {\n        vertical-align: middle;\n    }\n\n    .dataframe tbody tr th {\n        vertical-align: top;\n    }\n\n    .dataframe thead th {\n        text-align: right;\n    }\n</style>\n<table border=\"1\" class=\"dataframe\">\n  <thead>\n    <tr style=\"text-align: right;\">\n      <th></th>\n      <th>regId</th>\n      <th>RegionId</th>\n      <th>RegionName</th>\n      <th>RegionTypeId</th>\n      <th>RegionTypeName</th>\n      <th>DangerLevel</th>\n      <th>ValidFrom</th>\n      <th>ValidTo</th>\n      <th>NextWarningTime</th>\n      <th>PublishTime</th>\n      <th>DangerIncreaseTime</th>\n      <th>MainText</th>\n      <th>LangKey</th>\n    </tr>\n  </thead>\n  <tbody>\n    <tr>\n      <th>0</th>\n      <td>3001</td>\n      <td>Svalbard øst</td>\n      <td>20</td>\n      <td>B</td>\n      <td>0</td>\n      <td>2018-01-01T00:00:00</td>\n      <td>2018-01-01T23:59:59</td>\n      <td>2018-01-01T17:00:00</td>\n      <td>2018-01-01T00:00:00</td>\n      <td>NaN</td>\n      <td>NaN</td>\n      <td>Ikke vurdert</td>\n      <td>1</td>\n    </tr>\n    <tr>\n      <th>0</th>\n      <td>3001</td>\n      <td>Svalbard øst</td>\n      <td>20</td>\n      <td>B</td>\n      <td>0</td>\n      <td>2018-01-02T00:00:00</td>\n      <td>2018-01-02T23:59:59</td>\n      <td>2018-01-01T17:00:00</td>\n      <td>2018-01-02T00:00:00</td>\n      <td>NaN</td>\n      <td>NaN</td>\n      <td>Ikke vurdert</td>\n      <td>1</td>\n    </tr>\n    <tr>\n      <th>0</th>\n      <td>3001</td>\n      <td>Svalbard øst</td>\n      <td>20</td>\n      <td>B</td>\n      <td>0</td>\n      <td>2018-01-03T00:00:00</td>\n      <td>2018-01-03T23:59:59</td>\n      <td>2018-01-03T17:00:00</td>\n      <td>2018-01-03T00:00:00</td>\n      <td>NaN</td>\n      <td>NaN</td>\n      <td>Ikke vurdert</td>\n      <td>1</td>\n    </tr>\n    <tr>\n      <th>0</th>\n      <td>3001</td>\n      <td>Svalbard øst</td>\n      <td>20</td>\n      <td>B</td>\n      <td>0</td>\n      <td>2018-01-04T00:00:00</td>\n      <td>2018-01-04T23:59:59</td>\n      <td>2018-01-03T17:00:00</td>\n      <td>2018-01-04T00:00:00</td>\n      <td>NaN</td>\n      <td>NaN</td>\n      <td>Ikke vurdert</td>\n      <td>1</td>\n    </tr>\n    <tr>\n      <th>0</th>\n      <td>3001</td>\n      <td>Svalbard øst</td>\n      <td>20</td>\n      <td>B</td>\n      <td>0</td>\n      <td>2018-01-05T00:00:00</td>\n      <td>2018-01-05T23:59:59</td>\n      <td>2018-01-05T17:00:00</td>\n      <td>2018-01-05T00:00:00</td>\n      <td>NaN</td>\n      <td>NaN</td>\n      <td>Ikke vurdert</td>\n      <td>1</td>\n    </tr>\n    <tr>\n      <th>...</th>\n      <td>...</td>\n      <td>...</td>\n      <td>...</td>\n      <td>...</td>\n      <td>...</td>\n      <td>...</td>\n      <td>...</td>\n      <td>...</td>\n      <td>...</td>\n      <td>...</td>\n      <td>...</td>\n      <td>...</td>\n      <td>...</td>\n    </tr>\n    <tr>\n      <th>281883</th>\n      <td>3035</td>\n      <td>Vest-Telemark</td>\n      <td>10</td>\n      <td>A</td>\n      <td>1</td>\n      <td>2021-12-27T00:00:00</td>\n      <td>2021-12-27T23:59:59</td>\n      <td>2021-12-28T16:00:00</td>\n      <td>2021-12-26T15:28:18.613</td>\n      <td>NaN</td>\n      <td>NaN</td>\n      <td>Lite snø og generelt stabile forhold, kun muli...</td>\n      <td>1</td>\n    </tr>\n    <tr>\n      <th>282018</th>\n      <td>3035</td>\n      <td>Vest-Telemark</td>\n      <td>10</td>\n      <td>A</td>\n      <td>1</td>\n      <td>2021-12-28T00:00:00</td>\n      <td>2021-12-28T23:59:59</td>\n      <td>2021-12-29T16:00:00</td>\n      <td>2021-12-27T15:28:08.153</td>\n      <td>NaN</td>\n      <td>NaN</td>\n      <td>Lite snø og generelt stabile forhold, kun muli...</td>\n      <td>1</td>\n    </tr>\n    <tr>\n      <th>282141</th>\n      <td>3035</td>\n      <td>Vest-Telemark</td>\n      <td>10</td>\n      <td>A</td>\n      <td>1</td>\n      <td>2021-12-29T00:00:00</td>\n      <td>2021-12-29T23:59:59</td>\n      <td>2021-12-30T16:00:00</td>\n      <td>2021-12-28T15:32:18.54</td>\n      <td>NaN</td>\n      <td>NaN</td>\n      <td>Lite snø og generelt stabile forhold, kun muli...</td>\n      <td>1</td>\n    </tr>\n    <tr>\n      <th>282256</th>\n      <td>3035</td>\n      <td>Vest-Telemark</td>\n      <td>10</td>\n      <td>A</td>\n      <td>2</td>\n      <td>2021-12-30T00:00:00</td>\n      <td>2021-12-30T23:59:59</td>\n      <td>2021-12-31T16:00:00</td>\n      <td>2021-12-29T15:27:27.127</td>\n      <td>NaN</td>\n      <td>NaN</td>\n      <td>Mildvær og regn gir fare for natulig utløste v...</td>\n      <td>1</td>\n    </tr>\n    <tr>\n      <th>282373</th>\n      <td>3035</td>\n      <td>Vest-Telemark</td>\n      <td>10</td>\n      <td>A</td>\n      <td>2</td>\n      <td>2021-12-31T00:00:00</td>\n      <td>2021-12-31T23:59:59</td>\n      <td>2022-01-01T16:00:00</td>\n      <td>2021-12-30T15:37:03.963</td>\n      <td>NaN</td>\n      <td>NaN</td>\n      <td>Mildvær og regn gir fare for natulig utløste v...</td>\n      <td>1</td>\n    </tr>\n  </tbody>\n</table>\n<p>33603 rows × 13 columns</p>\n</div>"
     },
     "execution_count": 3,
     "metadata": {},
     "output_type": "execute_result"
    }
   ],
   "source": [
    "df = pd.read_csv(filepath_or_buffer=\"data/avalanches.csv\")\n",
    "df"
   ],
   "metadata": {
    "collapsed": false,
    "ExecuteTime": {
     "end_time": "2023-07-10T19:29:39.881892247Z",
     "start_time": "2023-07-10T19:29:39.749683299Z"
    }
   }
  },
  {
   "cell_type": "code",
   "execution_count": null,
   "outputs": [],
   "source": [],
   "metadata": {
    "collapsed": false
   }
  }
 ],
 "metadata": {
  "kernelspec": {
   "display_name": "Python 3",
   "language": "python",
   "name": "python3"
  },
  "language_info": {
   "codemirror_mode": {
    "name": "ipython",
    "version": 2
   },
   "file_extension": ".py",
   "mimetype": "text/x-python",
   "name": "python",
   "nbconvert_exporter": "python",
   "pygments_lexer": "ipython2",
   "version": "2.7.6"
  }
 },
 "nbformat": 4,
 "nbformat_minor": 0
}
