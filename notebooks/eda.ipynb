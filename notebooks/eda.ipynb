{
 "cells": [
  {
   "cell_type": "code",
   "execution_count": 50,
   "metadata": {
    "ExecuteTime": {
     "end_time": "2023-07-15T18:45:07.958865692Z",
     "start_time": "2023-07-15T18:45:07.875644018Z"
    },
    "collapsed": true
   },
   "outputs": [],
   "source": [
    "import pandas as pd\n",
    "import seaborn as sns\n",
    "import matplotlib.pyplot as plt"
   ]
  },
  {
   "cell_type": "code",
   "execution_count": 51,
   "metadata": {
    "ExecuteTime": {
     "end_time": "2023-07-15T18:45:08.092078427Z",
     "start_time": "2023-07-15T18:45:07.889662841Z"
    },
    "collapsed": false
   },
   "outputs": [
    {
     "data": {
      "text/html": [
       "<div>\n",
       "<style scoped>\n",
       "    .dataframe tbody tr th:only-of-type {\n",
       "        vertical-align: middle;\n",
       "    }\n",
       "\n",
       "    .dataframe tbody tr th {\n",
       "        vertical-align: top;\n",
       "    }\n",
       "\n",
       "    .dataframe thead th {\n",
       "        text-align: right;\n",
       "    }\n",
       "</style>\n",
       "<table border=\"1\" class=\"dataframe\">\n",
       "  <thead>\n",
       "    <tr style=\"text-align: right;\">\n",
       "      <th></th>\n",
       "      <th>RegID</th>\n",
       "      <th>RegionID</th>\n",
       "      <th>RegionName</th>\n",
       "      <th>RegionTypeId</th>\n",
       "      <th>RegionTypeName</th>\n",
       "      <th>DangerLevel</th>\n",
       "      <th>ValidFrom</th>\n",
       "      <th>ValidTo</th>\n",
       "      <th>NextWarningTime</th>\n",
       "      <th>PublishTime</th>\n",
       "      <th>DangerIncreaseTime</th>\n",
       "      <th>NoName</th>\n",
       "      <th>MainText</th>\n",
       "      <th>LangKey</th>\n",
       "    </tr>\n",
       "  </thead>\n",
       "  <tbody>\n",
       "    <tr>\n",
       "      <th>0</th>\n",
       "      <td>0</td>\n",
       "      <td>3001</td>\n",
       "      <td>Svalbard øst</td>\n",
       "      <td>20</td>\n",
       "      <td>B</td>\n",
       "      <td>0</td>\n",
       "      <td>2018-01-01T00:00:00</td>\n",
       "      <td>2018-01-01T23:59:59</td>\n",
       "      <td>2018-01-01T17:00:00</td>\n",
       "      <td>2018-01-01T00:00:00</td>\n",
       "      <td>NaN</td>\n",
       "      <td>NaN</td>\n",
       "      <td>Ikke vurdert</td>\n",
       "      <td>1</td>\n",
       "    </tr>\n",
       "    <tr>\n",
       "      <th>1</th>\n",
       "      <td>0</td>\n",
       "      <td>3001</td>\n",
       "      <td>Svalbard øst</td>\n",
       "      <td>20</td>\n",
       "      <td>B</td>\n",
       "      <td>0</td>\n",
       "      <td>2018-01-02T00:00:00</td>\n",
       "      <td>2018-01-02T23:59:59</td>\n",
       "      <td>2018-01-01T17:00:00</td>\n",
       "      <td>2018-01-02T00:00:00</td>\n",
       "      <td>NaN</td>\n",
       "      <td>NaN</td>\n",
       "      <td>Ikke vurdert</td>\n",
       "      <td>1</td>\n",
       "    </tr>\n",
       "    <tr>\n",
       "      <th>2</th>\n",
       "      <td>0</td>\n",
       "      <td>3001</td>\n",
       "      <td>Svalbard øst</td>\n",
       "      <td>20</td>\n",
       "      <td>B</td>\n",
       "      <td>0</td>\n",
       "      <td>2018-01-03T00:00:00</td>\n",
       "      <td>2018-01-03T23:59:59</td>\n",
       "      <td>2018-01-03T17:00:00</td>\n",
       "      <td>2018-01-03T00:00:00</td>\n",
       "      <td>NaN</td>\n",
       "      <td>NaN</td>\n",
       "      <td>Ikke vurdert</td>\n",
       "      <td>1</td>\n",
       "    </tr>\n",
       "    <tr>\n",
       "      <th>3</th>\n",
       "      <td>0</td>\n",
       "      <td>3001</td>\n",
       "      <td>Svalbard øst</td>\n",
       "      <td>20</td>\n",
       "      <td>B</td>\n",
       "      <td>0</td>\n",
       "      <td>2018-01-04T00:00:00</td>\n",
       "      <td>2018-01-04T23:59:59</td>\n",
       "      <td>2018-01-03T17:00:00</td>\n",
       "      <td>2018-01-04T00:00:00</td>\n",
       "      <td>NaN</td>\n",
       "      <td>NaN</td>\n",
       "      <td>Ikke vurdert</td>\n",
       "      <td>1</td>\n",
       "    </tr>\n",
       "    <tr>\n",
       "      <th>4</th>\n",
       "      <td>0</td>\n",
       "      <td>3001</td>\n",
       "      <td>Svalbard øst</td>\n",
       "      <td>20</td>\n",
       "      <td>B</td>\n",
       "      <td>0</td>\n",
       "      <td>2018-01-05T00:00:00</td>\n",
       "      <td>2018-01-05T23:59:59</td>\n",
       "      <td>2018-01-05T17:00:00</td>\n",
       "      <td>2018-01-05T00:00:00</td>\n",
       "      <td>NaN</td>\n",
       "      <td>NaN</td>\n",
       "      <td>Ikke vurdert</td>\n",
       "      <td>1</td>\n",
       "    </tr>\n",
       "    <tr>\n",
       "      <th>...</th>\n",
       "      <td>...</td>\n",
       "      <td>...</td>\n",
       "      <td>...</td>\n",
       "      <td>...</td>\n",
       "      <td>...</td>\n",
       "      <td>...</td>\n",
       "      <td>...</td>\n",
       "      <td>...</td>\n",
       "      <td>...</td>\n",
       "      <td>...</td>\n",
       "      <td>...</td>\n",
       "      <td>...</td>\n",
       "      <td>...</td>\n",
       "      <td>...</td>\n",
       "    </tr>\n",
       "    <tr>\n",
       "      <th>33598</th>\n",
       "      <td>281883</td>\n",
       "      <td>3035</td>\n",
       "      <td>Vest-Telemark</td>\n",
       "      <td>10</td>\n",
       "      <td>A</td>\n",
       "      <td>1</td>\n",
       "      <td>2021-12-27T00:00:00</td>\n",
       "      <td>2021-12-27T23:59:59</td>\n",
       "      <td>2021-12-28T16:00:00</td>\n",
       "      <td>2021-12-26T15:28:18.613</td>\n",
       "      <td>NaN</td>\n",
       "      <td>NaN</td>\n",
       "      <td>Lite snø og generelt stabile forhold, kun muli...</td>\n",
       "      <td>1</td>\n",
       "    </tr>\n",
       "    <tr>\n",
       "      <th>33599</th>\n",
       "      <td>282018</td>\n",
       "      <td>3035</td>\n",
       "      <td>Vest-Telemark</td>\n",
       "      <td>10</td>\n",
       "      <td>A</td>\n",
       "      <td>1</td>\n",
       "      <td>2021-12-28T00:00:00</td>\n",
       "      <td>2021-12-28T23:59:59</td>\n",
       "      <td>2021-12-29T16:00:00</td>\n",
       "      <td>2021-12-27T15:28:08.153</td>\n",
       "      <td>NaN</td>\n",
       "      <td>NaN</td>\n",
       "      <td>Lite snø og generelt stabile forhold, kun muli...</td>\n",
       "      <td>1</td>\n",
       "    </tr>\n",
       "    <tr>\n",
       "      <th>33600</th>\n",
       "      <td>282141</td>\n",
       "      <td>3035</td>\n",
       "      <td>Vest-Telemark</td>\n",
       "      <td>10</td>\n",
       "      <td>A</td>\n",
       "      <td>1</td>\n",
       "      <td>2021-12-29T00:00:00</td>\n",
       "      <td>2021-12-29T23:59:59</td>\n",
       "      <td>2021-12-30T16:00:00</td>\n",
       "      <td>2021-12-28T15:32:18.54</td>\n",
       "      <td>NaN</td>\n",
       "      <td>NaN</td>\n",
       "      <td>Lite snø og generelt stabile forhold, kun muli...</td>\n",
       "      <td>1</td>\n",
       "    </tr>\n",
       "    <tr>\n",
       "      <th>33601</th>\n",
       "      <td>282256</td>\n",
       "      <td>3035</td>\n",
       "      <td>Vest-Telemark</td>\n",
       "      <td>10</td>\n",
       "      <td>A</td>\n",
       "      <td>2</td>\n",
       "      <td>2021-12-30T00:00:00</td>\n",
       "      <td>2021-12-30T23:59:59</td>\n",
       "      <td>2021-12-31T16:00:00</td>\n",
       "      <td>2021-12-29T15:27:27.127</td>\n",
       "      <td>NaN</td>\n",
       "      <td>NaN</td>\n",
       "      <td>Mildvær og regn gir fare for natulig utløste v...</td>\n",
       "      <td>1</td>\n",
       "    </tr>\n",
       "    <tr>\n",
       "      <th>33602</th>\n",
       "      <td>282373</td>\n",
       "      <td>3035</td>\n",
       "      <td>Vest-Telemark</td>\n",
       "      <td>10</td>\n",
       "      <td>A</td>\n",
       "      <td>2</td>\n",
       "      <td>2021-12-31T00:00:00</td>\n",
       "      <td>2021-12-31T23:59:59</td>\n",
       "      <td>2022-01-01T16:00:00</td>\n",
       "      <td>2021-12-30T15:37:03.963</td>\n",
       "      <td>NaN</td>\n",
       "      <td>NaN</td>\n",
       "      <td>Mildvær og regn gir fare for natulig utløste v...</td>\n",
       "      <td>1</td>\n",
       "    </tr>\n",
       "  </tbody>\n",
       "</table>\n",
       "<p>33603 rows × 14 columns</p>\n",
       "</div>"
      ],
      "text/plain": [
       "        RegID  RegionID     RegionName  RegionTypeId RegionTypeName  \\\n",
       "0           0      3001   Svalbard øst            20              B   \n",
       "1           0      3001   Svalbard øst            20              B   \n",
       "2           0      3001   Svalbard øst            20              B   \n",
       "3           0      3001   Svalbard øst            20              B   \n",
       "4           0      3001   Svalbard øst            20              B   \n",
       "...       ...       ...            ...           ...            ...   \n",
       "33598  281883      3035  Vest-Telemark            10              A   \n",
       "33599  282018      3035  Vest-Telemark            10              A   \n",
       "33600  282141      3035  Vest-Telemark            10              A   \n",
       "33601  282256      3035  Vest-Telemark            10              A   \n",
       "33602  282373      3035  Vest-Telemark            10              A   \n",
       "\n",
       "       DangerLevel            ValidFrom              ValidTo  \\\n",
       "0                0  2018-01-01T00:00:00  2018-01-01T23:59:59   \n",
       "1                0  2018-01-02T00:00:00  2018-01-02T23:59:59   \n",
       "2                0  2018-01-03T00:00:00  2018-01-03T23:59:59   \n",
       "3                0  2018-01-04T00:00:00  2018-01-04T23:59:59   \n",
       "4                0  2018-01-05T00:00:00  2018-01-05T23:59:59   \n",
       "...            ...                  ...                  ...   \n",
       "33598            1  2021-12-27T00:00:00  2021-12-27T23:59:59   \n",
       "33599            1  2021-12-28T00:00:00  2021-12-28T23:59:59   \n",
       "33600            1  2021-12-29T00:00:00  2021-12-29T23:59:59   \n",
       "33601            2  2021-12-30T00:00:00  2021-12-30T23:59:59   \n",
       "33602            2  2021-12-31T00:00:00  2021-12-31T23:59:59   \n",
       "\n",
       "           NextWarningTime              PublishTime  DangerIncreaseTime  \\\n",
       "0      2018-01-01T17:00:00      2018-01-01T00:00:00                 NaN   \n",
       "1      2018-01-01T17:00:00      2018-01-02T00:00:00                 NaN   \n",
       "2      2018-01-03T17:00:00      2018-01-03T00:00:00                 NaN   \n",
       "3      2018-01-03T17:00:00      2018-01-04T00:00:00                 NaN   \n",
       "4      2018-01-05T17:00:00      2018-01-05T00:00:00                 NaN   \n",
       "...                    ...                      ...                 ...   \n",
       "33598  2021-12-28T16:00:00  2021-12-26T15:28:18.613                 NaN   \n",
       "33599  2021-12-29T16:00:00  2021-12-27T15:28:08.153                 NaN   \n",
       "33600  2021-12-30T16:00:00   2021-12-28T15:32:18.54                 NaN   \n",
       "33601  2021-12-31T16:00:00  2021-12-29T15:27:27.127                 NaN   \n",
       "33602  2022-01-01T16:00:00  2021-12-30T15:37:03.963                 NaN   \n",
       "\n",
       "       NoName                                           MainText  LangKey  \n",
       "0         NaN                                       Ikke vurdert        1  \n",
       "1         NaN                                       Ikke vurdert        1  \n",
       "2         NaN                                       Ikke vurdert        1  \n",
       "3         NaN                                       Ikke vurdert        1  \n",
       "4         NaN                                       Ikke vurdert        1  \n",
       "...       ...                                                ...      ...  \n",
       "33598     NaN  Lite snø og generelt stabile forhold, kun muli...        1  \n",
       "33599     NaN  Lite snø og generelt stabile forhold, kun muli...        1  \n",
       "33600     NaN  Lite snø og generelt stabile forhold, kun muli...        1  \n",
       "33601     NaN  Mildvær og regn gir fare for natulig utløste v...        1  \n",
       "33602     NaN  Mildvær og regn gir fare for natulig utløste v...        1  \n",
       "\n",
       "[33603 rows x 14 columns]"
      ]
     },
     "execution_count": 51,
     "metadata": {},
     "output_type": "execute_result"
    }
   ],
   "source": [
    "df = pd.read_csv(filepath_or_buffer=\"data/avalanches.csv\")\n",
    "df"
   ]
  },
  {
   "cell_type": "code",
   "execution_count": 52,
   "metadata": {
    "ExecuteTime": {
     "end_time": "2023-07-15T18:45:08.208910546Z",
     "start_time": "2023-07-15T18:45:08.133494383Z"
    },
    "collapsed": false
   },
   "outputs": [
    {
     "name": "stdout",
     "output_type": "stream",
     "text": [
      "<class 'pandas.core.frame.DataFrame'>\n",
      "RangeIndex: 33603 entries, 0 to 33602\n",
      "Data columns (total 14 columns):\n",
      " #   Column              Non-Null Count  Dtype  \n",
      "---  ------              --------------  -----  \n",
      " 0   RegID               33603 non-null  int64  \n",
      " 1   RegionID            33603 non-null  int64  \n",
      " 2   RegionName          33603 non-null  object \n",
      " 3   RegionTypeId        33603 non-null  int64  \n",
      " 4   RegionTypeName      33603 non-null  object \n",
      " 5   DangerLevel         33603 non-null  int64  \n",
      " 6   ValidFrom           33603 non-null  object \n",
      " 7   ValidTo             33603 non-null  object \n",
      " 8   NextWarningTime     33603 non-null  object \n",
      " 9   PublishTime         33603 non-null  object \n",
      " 10  DangerIncreaseTime  0 non-null      float64\n",
      " 11  NoName              0 non-null      float64\n",
      " 12  MainText            33543 non-null  object \n",
      " 13  LangKey             33603 non-null  int64  \n",
      "dtypes: float64(2), int64(5), object(7)\n",
      "memory usage: 3.6+ MB\n"
     ]
    }
   ],
   "source": [
    "df.info()"
   ]
  },
  {
   "cell_type": "markdown",
   "metadata": {},
   "source": [
    "As we can see, There are very few entries with null values. We will remove columns where no values are present"
   ]
  },
  {
   "cell_type": "code",
   "execution_count": 53,
   "metadata": {
    "ExecuteTime": {
     "end_time": "2023-07-15T18:45:08.209571937Z",
     "start_time": "2023-07-15T18:45:08.134960034Z"
    }
   },
   "outputs": [],
   "source": [
    "df = df.drop(columns=[\"DangerIncreaseTime\", \"NoName\"])"
   ]
  },
  {
   "cell_type": "markdown",
   "metadata": {},
   "source": [
    "We are not going to use the MainText in the analysis, and we do not need the name of regions. Same with date (except when the observation is form):"
   ]
  },
  {
   "cell_type": "code",
   "execution_count": 54,
   "metadata": {
    "ExecuteTime": {
     "end_time": "2023-07-15T18:45:08.240253706Z",
     "start_time": "2023-07-15T18:45:08.135573986Z"
    }
   },
   "outputs": [
    {
     "data": {
      "text/html": [
       "<div>\n",
       "<style scoped>\n",
       "    .dataframe tbody tr th:only-of-type {\n",
       "        vertical-align: middle;\n",
       "    }\n",
       "\n",
       "    .dataframe tbody tr th {\n",
       "        vertical-align: top;\n",
       "    }\n",
       "\n",
       "    .dataframe thead th {\n",
       "        text-align: right;\n",
       "    }\n",
       "</style>\n",
       "<table border=\"1\" class=\"dataframe\">\n",
       "  <thead>\n",
       "    <tr style=\"text-align: right;\">\n",
       "      <th></th>\n",
       "      <th>RegID</th>\n",
       "      <th>RegionID</th>\n",
       "      <th>RegionTypeId</th>\n",
       "      <th>DangerLevel</th>\n",
       "      <th>PublishTime</th>\n",
       "    </tr>\n",
       "  </thead>\n",
       "  <tbody>\n",
       "    <tr>\n",
       "      <th>0</th>\n",
       "      <td>0</td>\n",
       "      <td>3001</td>\n",
       "      <td>20</td>\n",
       "      <td>0</td>\n",
       "      <td>2018-01-01T00:00:00</td>\n",
       "    </tr>\n",
       "    <tr>\n",
       "      <th>1</th>\n",
       "      <td>0</td>\n",
       "      <td>3001</td>\n",
       "      <td>20</td>\n",
       "      <td>0</td>\n",
       "      <td>2018-01-02T00:00:00</td>\n",
       "    </tr>\n",
       "    <tr>\n",
       "      <th>2</th>\n",
       "      <td>0</td>\n",
       "      <td>3001</td>\n",
       "      <td>20</td>\n",
       "      <td>0</td>\n",
       "      <td>2018-01-03T00:00:00</td>\n",
       "    </tr>\n",
       "    <tr>\n",
       "      <th>3</th>\n",
       "      <td>0</td>\n",
       "      <td>3001</td>\n",
       "      <td>20</td>\n",
       "      <td>0</td>\n",
       "      <td>2018-01-04T00:00:00</td>\n",
       "    </tr>\n",
       "    <tr>\n",
       "      <th>4</th>\n",
       "      <td>0</td>\n",
       "      <td>3001</td>\n",
       "      <td>20</td>\n",
       "      <td>0</td>\n",
       "      <td>2018-01-05T00:00:00</td>\n",
       "    </tr>\n",
       "    <tr>\n",
       "      <th>...</th>\n",
       "      <td>...</td>\n",
       "      <td>...</td>\n",
       "      <td>...</td>\n",
       "      <td>...</td>\n",
       "      <td>...</td>\n",
       "    </tr>\n",
       "    <tr>\n",
       "      <th>33598</th>\n",
       "      <td>281883</td>\n",
       "      <td>3035</td>\n",
       "      <td>10</td>\n",
       "      <td>1</td>\n",
       "      <td>2021-12-26T15:28:18.613</td>\n",
       "    </tr>\n",
       "    <tr>\n",
       "      <th>33599</th>\n",
       "      <td>282018</td>\n",
       "      <td>3035</td>\n",
       "      <td>10</td>\n",
       "      <td>1</td>\n",
       "      <td>2021-12-27T15:28:08.153</td>\n",
       "    </tr>\n",
       "    <tr>\n",
       "      <th>33600</th>\n",
       "      <td>282141</td>\n",
       "      <td>3035</td>\n",
       "      <td>10</td>\n",
       "      <td>1</td>\n",
       "      <td>2021-12-28T15:32:18.54</td>\n",
       "    </tr>\n",
       "    <tr>\n",
       "      <th>33601</th>\n",
       "      <td>282256</td>\n",
       "      <td>3035</td>\n",
       "      <td>10</td>\n",
       "      <td>2</td>\n",
       "      <td>2021-12-29T15:27:27.127</td>\n",
       "    </tr>\n",
       "    <tr>\n",
       "      <th>33602</th>\n",
       "      <td>282373</td>\n",
       "      <td>3035</td>\n",
       "      <td>10</td>\n",
       "      <td>2</td>\n",
       "      <td>2021-12-30T15:37:03.963</td>\n",
       "    </tr>\n",
       "  </tbody>\n",
       "</table>\n",
       "<p>33603 rows × 5 columns</p>\n",
       "</div>"
      ],
      "text/plain": [
       "        RegID  RegionID  RegionTypeId  DangerLevel              PublishTime\n",
       "0           0      3001            20            0      2018-01-01T00:00:00\n",
       "1           0      3001            20            0      2018-01-02T00:00:00\n",
       "2           0      3001            20            0      2018-01-03T00:00:00\n",
       "3           0      3001            20            0      2018-01-04T00:00:00\n",
       "4           0      3001            20            0      2018-01-05T00:00:00\n",
       "...       ...       ...           ...          ...                      ...\n",
       "33598  281883      3035            10            1  2021-12-26T15:28:18.613\n",
       "33599  282018      3035            10            1  2021-12-27T15:28:08.153\n",
       "33600  282141      3035            10            1   2021-12-28T15:32:18.54\n",
       "33601  282256      3035            10            2  2021-12-29T15:27:27.127\n",
       "33602  282373      3035            10            2  2021-12-30T15:37:03.963\n",
       "\n",
       "[33603 rows x 5 columns]"
      ]
     },
     "execution_count": 54,
     "metadata": {},
     "output_type": "execute_result"
    }
   ],
   "source": [
    "df = df.drop(columns=[\"RegionName\", \"MainText\", \"ValidFrom\", \"ValidTo\", \"NextWarningTime\", \"LangKey\", \"RegionTypeName\"])\n",
    "df"
   ]
  },
  {
   "cell_type": "markdown",
   "metadata": {},
   "source": [
    "Check if all the columns has the correct datatypes:"
   ]
  },
  {
   "cell_type": "code",
   "execution_count": 55,
   "metadata": {
    "ExecuteTime": {
     "end_time": "2023-07-15T18:45:08.345900040Z",
     "start_time": "2023-07-15T18:45:08.159919391Z"
    }
   },
   "outputs": [
    {
     "name": "stdout",
     "output_type": "stream",
     "text": [
      "<class 'pandas.core.frame.DataFrame'>\n",
      "RangeIndex: 33603 entries, 0 to 33602\n",
      "Data columns (total 5 columns):\n",
      " #   Column        Non-Null Count  Dtype \n",
      "---  ------        --------------  ----- \n",
      " 0   RegID         33603 non-null  int64 \n",
      " 1   RegionID      33603 non-null  int64 \n",
      " 2   RegionTypeId  33603 non-null  int64 \n",
      " 3   DangerLevel   33603 non-null  int64 \n",
      " 4   PublishTime   33603 non-null  object\n",
      "dtypes: int64(4), object(1)\n",
      "memory usage: 1.3+ MB\n"
     ]
    }
   ],
   "source": [
    "df.info()"
   ]
  },
  {
   "cell_type": "code",
   "execution_count": 56,
   "metadata": {
    "ExecuteTime": {
     "end_time": "2023-07-15T18:45:08.370946060Z",
     "start_time": "2023-07-15T18:45:08.201750066Z"
    }
   },
   "outputs": [
    {
     "name": "stdout",
     "output_type": "stream",
     "text": [
      "<class 'pandas.core.frame.DataFrame'>\n",
      "RangeIndex: 33603 entries, 0 to 33602\n",
      "Data columns (total 5 columns):\n",
      " #   Column        Non-Null Count  Dtype         \n",
      "---  ------        --------------  -----         \n",
      " 0   RegID         33603 non-null  int64         \n",
      " 1   RegionID      33603 non-null  int64         \n",
      " 2   RegionTypeId  33603 non-null  int64         \n",
      " 3   DangerLevel   33603 non-null  int64         \n",
      " 4   PublishTime   33603 non-null  datetime64[ns]\n",
      "dtypes: datetime64[ns](1), int64(4)\n",
      "memory usage: 1.3 MB\n"
     ]
    }
   ],
   "source": [
    "df[\"PublishTime\"] = pd.to_datetime(df[\"PublishTime\"])\n",
    "df.info()"
   ]
  },
  {
   "cell_type": "markdown",
   "metadata": {},
   "source": [
    "## Introducing weather dataset\n",
    "Based on the columns we now have, It is going to be impossible to make any sort of predition. Hence we would have to introduce the weather df_trollheimenset aswell"
   ]
  },
  {
   "cell_type": "code",
   "execution_count": 57,
   "metadata": {
    "ExecuteTime": {
     "end_time": "2023-07-15T18:45:09.005305848Z",
     "start_time": "2023-07-15T18:45:08.244205253Z"
    }
   },
   "outputs": [
    {
     "data": {
      "text/plain": [
       "<Figure size 1000x600 with 0 Axes>"
      ]
     },
     "metadata": {},
     "output_type": "display_data"
    },
    {
     "data": {
      "image/png": "[encoded data removed]",
      "text/plain": [
       "<Figure size 640x480 with 1 Axes>"
      ]
     },
     "metadata": {},
     "output_type": "display_data"
    }
   ],
   "source": [
    "plt.figure(figsize=(10, 6))  # Adjust the figure size as needed\n",
    "df.groupby('RegionID')['DangerLevel'].value_counts().unstack().plot.bar(stacked=True)\n",
    "\n",
    "plt.xlabel('Region')\n",
    "plt.ylabel('Count')\n",
    "plt.title('Number of Different Danger Levels per Region')\n",
    "plt.legend(title='Danger Level')\n",
    "\n",
    "plt.show()\n"
   ]
  },
  {
   "cell_type": "markdown",
   "metadata": {},
   "source": [
    "Hmm, thats weird. Why does region 3023 and 3035 have much more observations than the rest?\n",
    "\n",
    "This actually indicates that there is something wrong with these regions. After taking a closer look, there are typos in the location_data.py where several regions have the same ID. These would need to be deleted.\n",
    "\n",
    "In addition we see 3001, 3002, 3004, 3005 and 3018 have much fewer registered observations (the ones that are observed are level 4 or 5). This indicates that these regions are not monitored as much as the other ones. These datapoints will be removed"
   ]
  },
  {
   "cell_type": "code",
   "execution_count": 58,
   "metadata": {
    "ExecuteTime": {
     "end_time": "2023-07-15T18:45:09.015787702Z",
     "start_time": "2023-07-15T18:45:09.011711120Z"
    }
   },
   "outputs": [],
   "source": [
    "# Define the region IDs to be removed\n",
    "region_ids_to_remove = [3001, 3002, 3004, 3005, 3018, 3023, 3035]\n",
    "\n",
    "# Remove rows with the specified region IDs\n",
    "df = df[~df['RegionID'].isin(region_ids_to_remove)]\n"
   ]
  },
  {
   "cell_type": "code",
   "execution_count": 59,
   "metadata": {
    "ExecuteTime": {
     "end_time": "2023-07-15T18:45:09.383255073Z",
     "start_time": "2023-07-15T18:45:09.020320169Z"
    }
   },
   "outputs": [
    {
     "data": {
      "image/png": "[encoded data removed]",
      "text/plain": [
       "<Figure size 640x480 with 1 Axes>"
      ]
     },
     "metadata": {},
     "output_type": "display_data"
    }
   ],
   "source": [
    "df.groupby('RegionID')['DangerLevel'].value_counts().unstack().plot.bar(stacked=True)\n",
    "\n",
    "plt.xlabel('Region')\n",
    "plt.ylabel('Count')\n",
    "plt.title('Number of Different Danger Levels per Region')\n",
    "plt.legend(title='Danger Level')\n",
    "\n",
    "plt.show()"
   ]
  },
  {
   "cell_type": "markdown",
   "metadata": {},
   "source": [
    "As we can see, this is much more even. It seems like these are regions which has regular updates (I suspect region 3006 was bumped up to regular updates in the middle of the dataset)"
   ]
  },
  {
   "cell_type": "markdown",
   "metadata": {},
   "source": [
    "## Looking into more detail for a given region\n",
    "To get more insights into how the danger level fluctuates over time, it is suitable to look into a specific region and its danger level over time. I will choose region 3022, as it equates to Trollheimen, which is where I ski the most"
   ]
  },
  {
   "cell_type": "code",
   "execution_count": 60,
   "metadata": {
    "ExecuteTime": {
     "end_time": "2023-07-15T18:45:09.391981452Z",
     "start_time": "2023-07-15T18:45:09.380795146Z"
    }
   },
   "outputs": [
    {
     "name": "stdout",
     "output_type": "stream",
     "text": [
      "        RegID  RegionID  RegionTypeId  DangerLevel             PublishTime\n",
      "5110   137929      3022            10            2 2017-12-31 14:55:03.203\n",
      "5111   138059      3022            10            2 2018-01-01 15:05:52.427\n",
      "5112   138162      3022            10            2 2018-01-02 15:30:56.043\n",
      "5113   138319      3022            10            2 2018-01-03 15:50:24.250\n",
      "5114   138501      3022            10            2 2018-01-04 15:17:44.557\n",
      "...       ...       ...           ...          ...                     ...\n",
      "30678  282033      3022            10            3 2021-12-27 10:18:16.430\n",
      "30679  282040      3022            10            3 2021-12-27 15:28:04.040\n",
      "30680  282132      3022            10            2 2021-12-28 15:32:13.677\n",
      "30681  282247      3022            10            3 2021-12-29 15:27:22.570\n",
      "30682  282364      3022            10            3 2021-12-30 15:36:57.743\n",
      "\n",
      "[1461 rows x 5 columns]\n"
     ]
    }
   ],
   "source": [
    "df_trollheimen = df.loc[df['RegionID'] == 3022].copy()\n",
    "print(df_trollheimen)"
   ]
  },
  {
   "cell_type": "code",
   "execution_count": 61,
   "metadata": {
    "ExecuteTime": {
     "end_time": "2023-07-15T18:45:09.806687188Z",
     "start_time": "2023-07-15T18:45:09.390036712Z"
    }
   },
   "outputs": [
    {
     "data": {
      "image/png": "[encoded data removed]",
      "text/plain": [
       "<Figure size 1000x600 with 1 Axes>"
      ]
     },
     "metadata": {},
     "output_type": "display_data"
    }
   ],
   "source": [
    "df_trollheimen = df_trollheimen.sort_values(\"PublishTime\")\n",
    "plt.figure(figsize=(10, 6))  # Adjust the figure size as needed\n",
    "\n",
    "plt.plot(df_trollheimen['PublishTime'], df_trollheimen['DangerLevel'])\n",
    "plt.xlabel('Publish Time')\n",
    "plt.ylabel('Danger Level')\n",
    "plt.title('Danger Level over Time')\n",
    "\n",
    "plt.show()"
   ]
  },
  {
   "cell_type": "markdown",
   "metadata": {},
   "source": [
    "Okay, this chart may be a bit difficult to interpret, but if we look into seasonality of the temporal data, we can see that in each summer, the DangerLevel is 0. This indicates that level 0 indicates that the region does not have a evaluation for the given time. In the wintertimes, it never hits DangerLevel 0. Now it would be interesting to look into how the DangerLevel fluctuates for a given winter season. Let's look into the 2020/2021 season:"
   ]
  },
  {
   "cell_type": "code",
   "execution_count": 62,
   "metadata": {
    "ExecuteTime": {
     "end_time": "2023-07-15T18:45:09.985565476Z",
     "start_time": "2023-07-15T18:45:09.805930137Z"
    }
   },
   "outputs": [
    {
     "data": {
      "image/png": "[encoded data removed]",
      "text/plain": [
       "<Figure size 1000x600 with 1 Axes>"
      ]
     },
     "metadata": {},
     "output_type": "display_data"
    }
   ],
   "source": [
    "# Filter the DataFrame for the desired time range\n",
    "start_date = pd.to_datetime('2020-11-01')\n",
    "end_date = pd.to_datetime('2021-06-30')\n",
    "filtered_data = df_trollheimen[(df_trollheimen['PublishTime'] >= start_date) & (df_trollheimen['PublishTime'] <= end_date)]\n",
    "\n",
    "plt.figure(figsize=(10, 6))\n",
    "plt.plot(filtered_data['PublishTime'], filtered_data['DangerLevel'])\n",
    "plt.xlabel('Publish Time')\n",
    "plt.ylabel('Danger Level')\n",
    "plt.title('Danger Level over Time (Nov 2020 - June 2021)')\n",
    "\n",
    "plt.show()"
   ]
  },
  {
   "cell_type": "markdown",
   "metadata": {},
   "source": [
    "From what we can see, it seems that a general trend of danger level is that it increases thru the season and stagnates around May. This corresponds to what you might learn in litterature around avalanches. The snow early in the season is not deep enough to constitute large avalanche danger. Around mid season (think january) we will have enough snow, and it is cold enough to create presistent weak layers, which constitute super dangerous and large avalanches. Towards spring, the snow gets wetter, this results in very hard and safe snow early in the morning (because a cold night is going to harden the snowlayers). During the day in spring, the sun will make the snow wetter, this will cause the avalanche danger to rise. A wet avalanche is very dangerous"
   ]
  },
  {
   "cell_type": "code",
   "execution_count": 63,
   "metadata": {
    "ExecuteTime": {
     "end_time": "2023-07-15T18:46:23.814283922Z",
     "start_time": "2023-07-15T18:46:23.489986258Z"
    }
   },
   "outputs": [
    {
     "data": {
      "image/png": "[encoded data removed]",
      "text/plain": [
       "<Figure size 1000x600 with 1 Axes>"
      ]
     },
     "metadata": {},
     "output_type": "display_data"
    }
   ],
   "source": [
    "# Define the time ranges\n",
    "time_ranges = [\n",
    "    (pd.to_datetime('2018-11-01'), pd.to_datetime('2019-06-30'), 'blue'),\n",
    "    (pd.to_datetime('2019-11-01'), pd.to_datetime('2020-06-30'), 'green'),\n",
    "    (pd.to_datetime('2020-11-01'), pd.to_datetime('2021-06-30'), 'red')\n",
    "]\n",
    "\n",
    "plt.figure(figsize=(10, 6))\n",
    "\n",
    "# Plot the line chart for each time range\n",
    "for start_date, end_date, color in time_ranges:\n",
    "    filtered_data = df_trollheimen[(df_trollheimen['PublishTime'] >= start_date) & (df_trollheimen['PublishTime'] <= end_date)]\n",
    "    x_values = (filtered_data['PublishTime'] - start_date).dt.days\n",
    "    y_values = filtered_data['DangerLevel']\n",
    "    plt.plot(x_values, y_values, color=color)\n",
    "\n",
    "plt.xlabel('Days from Start of Time Range')\n",
    "plt.ylabel('Danger Level')\n",
    "plt.title('Danger Level over Time')\n",
    "\n",
    "plt.show()"
   ]
  },
  {
   "cell_type": "markdown",
   "metadata": {},
   "source": [
    "Ok, this is a bit messy to unpack. It would be nicer to get a trend for each graph and compare them"
   ]
  },
  {
   "cell_type": "code",
   "execution_count": 64,
   "metadata": {},
   "outputs": [
    {
     "data": {
      "image/png": "[encoded data removed]",
      "text/plain": [
       "<Figure size 1000x600 with 1 Axes>"
      ]
     },
     "metadata": {},
     "output_type": "display_data"
    }
   ],
   "source": [
    "\n",
    "from scipy import stats\n",
    "import numpy as np\n",
    "\n",
    "# Define the start and end dates for each year's time range\n",
    "time_ranges = [\n",
    "    (pd.to_datetime('2018-11-01'), pd.to_datetime('2019-06-30'), 'blue', '2018-2019'),\n",
    "    (pd.to_datetime('2019-11-01'), pd.to_datetime('2020-06-30'), 'green', '2019-2020'),\n",
    "    (pd.to_datetime('2020-11-01'), pd.to_datetime('2021-06-30'), 'red', '2020-2021')\n",
    "]\n",
    "\n",
    "plt.figure(figsize=(10, 6))\n",
    "\n",
    "# Plot the data and trendline for each time range\n",
    "for start_date, end_date, color, label in time_ranges:\n",
    "    filtered_data = df_trollheimen[(df_trollheimen['PublishTime'] >= start_date) & (df_trollheimen['PublishTime'] <= end_date)]\n",
    "\n",
    "    x_days = (filtered_data['PublishTime'] - start_date).dt.days.values\n",
    "    x = np.arange(len(x_days))\n",
    "    y = filtered_data['DangerLevel'].values\n",
    "\n",
    "    slope, intercept, r_value, p_value, std_err = stats.linregress(x, y)\n",
    "    trendline = intercept + slope * x\n",
    "\n",
    "    plt.plot(filtered_data['PublishTime'], filtered_data['DangerLevel'], label=f'Data ({label})')\n",
    "    plt.plot(filtered_data['PublishTime'], trendline, label=f'Trendline ({label})', color=color)\n",
    "\n",
    "plt.xlabel('Publish Time')\n",
    "plt.ylabel('Danger Level')\n",
    "plt.title('Danger Level over Time')\n",
    "plt.legend()\n",
    "\n",
    "plt.show()"
   ]
  },
  {
   "cell_type": "markdown",
   "metadata": {},
   "source": [
    "As we can see, there is no specific seasonal trend the data follows. Hence we would need some more sophisticated methods for predicting avalanche danger"
   ]
  },
  {
   "cell_type": "markdown",
   "metadata": {},
   "source": [
    "# Using weatherdata"
   ]
  },
  {
   "cell_type": "code",
   "execution_count": 65,
   "metadata": {},
   "outputs": [
    {
     "data": {
      "text/html": [
       "<div>\n",
       "<style scoped>\n",
       "    .dataframe tbody tr th:only-of-type {\n",
       "        vertical-align: middle;\n",
       "    }\n",
       "\n",
       "    .dataframe tbody tr th {\n",
       "        vertical-align: top;\n",
       "    }\n",
       "\n",
       "    .dataframe thead th {\n",
       "        text-align: right;\n",
       "    }\n",
       "</style>\n",
       "<table border=\"1\" class=\"dataframe\">\n",
       "  <thead>\n",
       "    <tr style=\"text-align: right;\">\n",
       "      <th></th>\n",
       "      <th>latitude</th>\n",
       "      <th>longitutde</th>\n",
       "      <th>elevation</th>\n",
       "      <th>time</th>\n",
       "      <th>region_id</th>\n",
       "      <th>region_name</th>\n",
       "      <th>temp_2m_max</th>\n",
       "      <th>temp_2m_min</th>\n",
       "      <th>temp_2m_mean</th>\n",
       "      <th>rain_sum</th>\n",
       "      <th>snowfall_sum</th>\n",
       "      <th>windspeed_10m_max</th>\n",
       "      <th>windgusts_10m_max</th>\n",
       "      <th>winddirection_10m_dominant</th>\n",
       "    </tr>\n",
       "  </thead>\n",
       "  <tbody>\n",
       "    <tr>\n",
       "      <th>0</th>\n",
       "      <td>79.600006</td>\n",
       "      <td>24.800003</td>\n",
       "      <td>463.0</td>\n",
       "      <td>2018-01-01</td>\n",
       "      <td>3001</td>\n",
       "      <td>Svalbar øst</td>\n",
       "      <td>-16.7</td>\n",
       "      <td>-21.6</td>\n",
       "      <td>-19.4</td>\n",
       "      <td>0.0</td>\n",
       "      <td>0.00</td>\n",
       "      <td>6.3</td>\n",
       "      <td>15.8</td>\n",
       "      <td>95</td>\n",
       "    </tr>\n",
       "    <tr>\n",
       "      <th>1</th>\n",
       "      <td>79.600006</td>\n",
       "      <td>24.800003</td>\n",
       "      <td>463.0</td>\n",
       "      <td>2018-01-02</td>\n",
       "      <td>3001</td>\n",
       "      <td>Svalbar øst</td>\n",
       "      <td>-16.8</td>\n",
       "      <td>-22.0</td>\n",
       "      <td>-18.8</td>\n",
       "      <td>0.0</td>\n",
       "      <td>0.21</td>\n",
       "      <td>27.0</td>\n",
       "      <td>39.6</td>\n",
       "      <td>355</td>\n",
       "    </tr>\n",
       "    <tr>\n",
       "      <th>2</th>\n",
       "      <td>79.600006</td>\n",
       "      <td>24.800003</td>\n",
       "      <td>463.0</td>\n",
       "      <td>2018-01-03</td>\n",
       "      <td>3001</td>\n",
       "      <td>Svalbar øst</td>\n",
       "      <td>-17.7</td>\n",
       "      <td>-18.5</td>\n",
       "      <td>-18.0</td>\n",
       "      <td>0.0</td>\n",
       "      <td>0.00</td>\n",
       "      <td>28.5</td>\n",
       "      <td>41.4</td>\n",
       "      <td>4</td>\n",
       "    </tr>\n",
       "    <tr>\n",
       "      <th>3</th>\n",
       "      <td>79.600006</td>\n",
       "      <td>24.800003</td>\n",
       "      <td>463.0</td>\n",
       "      <td>2018-01-04</td>\n",
       "      <td>3001</td>\n",
       "      <td>Svalbar øst</td>\n",
       "      <td>-18.5</td>\n",
       "      <td>-23.4</td>\n",
       "      <td>-21.2</td>\n",
       "      <td>0.0</td>\n",
       "      <td>0.00</td>\n",
       "      <td>13.6</td>\n",
       "      <td>27.4</td>\n",
       "      <td>5</td>\n",
       "    </tr>\n",
       "    <tr>\n",
       "      <th>4</th>\n",
       "      <td>79.600006</td>\n",
       "      <td>24.800003</td>\n",
       "      <td>463.0</td>\n",
       "      <td>2018-01-05</td>\n",
       "      <td>3001</td>\n",
       "      <td>Svalbar øst</td>\n",
       "      <td>-17.0</td>\n",
       "      <td>-20.6</td>\n",
       "      <td>-18.7</td>\n",
       "      <td>0.0</td>\n",
       "      <td>0.00</td>\n",
       "      <td>22.9</td>\n",
       "      <td>34.2</td>\n",
       "      <td>35</td>\n",
       "    </tr>\n",
       "  </tbody>\n",
       "</table>\n",
       "</div>"
      ],
      "text/plain": [
       "    latitude  longitutde  elevation        time  region_id  region_name  \\\n",
       "0  79.600006   24.800003      463.0  2018-01-01       3001  Svalbar øst   \n",
       "1  79.600006   24.800003      463.0  2018-01-02       3001  Svalbar øst   \n",
       "2  79.600006   24.800003      463.0  2018-01-03       3001  Svalbar øst   \n",
       "3  79.600006   24.800003      463.0  2018-01-04       3001  Svalbar øst   \n",
       "4  79.600006   24.800003      463.0  2018-01-05       3001  Svalbar øst   \n",
       "\n",
       "   temp_2m_max  temp_2m_min  temp_2m_mean  rain_sum  snowfall_sum  \\\n",
       "0        -16.7        -21.6         -19.4       0.0          0.00   \n",
       "1        -16.8        -22.0         -18.8       0.0          0.21   \n",
       "2        -17.7        -18.5         -18.0       0.0          0.00   \n",
       "3        -18.5        -23.4         -21.2       0.0          0.00   \n",
       "4        -17.0        -20.6         -18.7       0.0          0.00   \n",
       "\n",
       "   windspeed_10m_max  windgusts_10m_max  winddirection_10m_dominant  \n",
       "0                6.3               15.8                          95  \n",
       "1               27.0               39.6                         355  \n",
       "2               28.5               41.4                           4  \n",
       "3               13.6               27.4                           5  \n",
       "4               22.9               34.2                          35  "
      ]
     },
     "execution_count": 65,
     "metadata": {},
     "output_type": "execute_result"
    }
   ],
   "source": [
    "weather_df = pd.read_csv(\"data/weather.csv\")\n",
    "weather_df.head()"
   ]
  },
  {
   "cell_type": "code",
   "execution_count": 66,
   "metadata": {},
   "outputs": [
    {
     "data": {
      "text/html": [
       "<div>\n",
       "<style scoped>\n",
       "    .dataframe tbody tr th:only-of-type {\n",
       "        vertical-align: middle;\n",
       "    }\n",
       "\n",
       "    .dataframe tbody tr th {\n",
       "        vertical-align: top;\n",
       "    }\n",
       "\n",
       "    .dataframe thead th {\n",
       "        text-align: right;\n",
       "    }\n",
       "</style>\n",
       "<table border=\"1\" class=\"dataframe\">\n",
       "  <thead>\n",
       "    <tr style=\"text-align: right;\">\n",
       "      <th></th>\n",
       "      <th>latitude</th>\n",
       "      <th>longitutde</th>\n",
       "      <th>elevation</th>\n",
       "      <th>time</th>\n",
       "      <th>region_id</th>\n",
       "      <th>region_name</th>\n",
       "      <th>temp_2m_max</th>\n",
       "      <th>temp_2m_min</th>\n",
       "      <th>temp_2m_mean</th>\n",
       "      <th>rain_sum</th>\n",
       "      <th>snowfall_sum</th>\n",
       "      <th>windspeed_10m_max</th>\n",
       "      <th>windgusts_10m_max</th>\n",
       "      <th>winddirection_10m_dominant</th>\n",
       "    </tr>\n",
       "  </thead>\n",
       "  <tbody>\n",
       "    <tr>\n",
       "      <th>0</th>\n",
       "      <td>79.600006</td>\n",
       "      <td>24.800003</td>\n",
       "      <td>463.0</td>\n",
       "      <td>2018-01-01</td>\n",
       "      <td>3001</td>\n",
       "      <td>Svalbar øst</td>\n",
       "      <td>-16.7</td>\n",
       "      <td>-21.6</td>\n",
       "      <td>-19.4</td>\n",
       "      <td>0.0</td>\n",
       "      <td>0.00</td>\n",
       "      <td>6.3</td>\n",
       "      <td>15.8</td>\n",
       "      <td>95</td>\n",
       "    </tr>\n",
       "    <tr>\n",
       "      <th>1</th>\n",
       "      <td>79.600006</td>\n",
       "      <td>24.800003</td>\n",
       "      <td>463.0</td>\n",
       "      <td>2018-01-02</td>\n",
       "      <td>3001</td>\n",
       "      <td>Svalbar øst</td>\n",
       "      <td>-16.8</td>\n",
       "      <td>-22.0</td>\n",
       "      <td>-18.8</td>\n",
       "      <td>0.0</td>\n",
       "      <td>0.21</td>\n",
       "      <td>27.0</td>\n",
       "      <td>39.6</td>\n",
       "      <td>355</td>\n",
       "    </tr>\n",
       "    <tr>\n",
       "      <th>2</th>\n",
       "      <td>79.600006</td>\n",
       "      <td>24.800003</td>\n",
       "      <td>463.0</td>\n",
       "      <td>2018-01-03</td>\n",
       "      <td>3001</td>\n",
       "      <td>Svalbar øst</td>\n",
       "      <td>-17.7</td>\n",
       "      <td>-18.5</td>\n",
       "      <td>-18.0</td>\n",
       "      <td>0.0</td>\n",
       "      <td>0.00</td>\n",
       "      <td>28.5</td>\n",
       "      <td>41.4</td>\n",
       "      <td>4</td>\n",
       "    </tr>\n",
       "    <tr>\n",
       "      <th>3</th>\n",
       "      <td>79.600006</td>\n",
       "      <td>24.800003</td>\n",
       "      <td>463.0</td>\n",
       "      <td>2018-01-04</td>\n",
       "      <td>3001</td>\n",
       "      <td>Svalbar øst</td>\n",
       "      <td>-18.5</td>\n",
       "      <td>-23.4</td>\n",
       "      <td>-21.2</td>\n",
       "      <td>0.0</td>\n",
       "      <td>0.00</td>\n",
       "      <td>13.6</td>\n",
       "      <td>27.4</td>\n",
       "      <td>5</td>\n",
       "    </tr>\n",
       "    <tr>\n",
       "      <th>4</th>\n",
       "      <td>79.600006</td>\n",
       "      <td>24.800003</td>\n",
       "      <td>463.0</td>\n",
       "      <td>2018-01-05</td>\n",
       "      <td>3001</td>\n",
       "      <td>Svalbar øst</td>\n",
       "      <td>-17.0</td>\n",
       "      <td>-20.6</td>\n",
       "      <td>-18.7</td>\n",
       "      <td>0.0</td>\n",
       "      <td>0.00</td>\n",
       "      <td>22.9</td>\n",
       "      <td>34.2</td>\n",
       "      <td>35</td>\n",
       "    </tr>\n",
       "  </tbody>\n",
       "</table>\n",
       "</div>"
      ],
      "text/plain": [
       "    latitude  longitutde  elevation        time  region_id  region_name  \\\n",
       "0  79.600006   24.800003      463.0  2018-01-01       3001  Svalbar øst   \n",
       "1  79.600006   24.800003      463.0  2018-01-02       3001  Svalbar øst   \n",
       "2  79.600006   24.800003      463.0  2018-01-03       3001  Svalbar øst   \n",
       "3  79.600006   24.800003      463.0  2018-01-04       3001  Svalbar øst   \n",
       "4  79.600006   24.800003      463.0  2018-01-05       3001  Svalbar øst   \n",
       "\n",
       "   temp_2m_max  temp_2m_min  temp_2m_mean  rain_sum  snowfall_sum  \\\n",
       "0        -16.7        -21.6         -19.4       0.0          0.00   \n",
       "1        -16.8        -22.0         -18.8       0.0          0.21   \n",
       "2        -17.7        -18.5         -18.0       0.0          0.00   \n",
       "3        -18.5        -23.4         -21.2       0.0          0.00   \n",
       "4        -17.0        -20.6         -18.7       0.0          0.00   \n",
       "\n",
       "   windspeed_10m_max  windgusts_10m_max  winddirection_10m_dominant  \n",
       "0                6.3               15.8                          95  \n",
       "1               27.0               39.6                         355  \n",
       "2               28.5               41.4                           4  \n",
       "3               13.6               27.4                           5  \n",
       "4               22.9               34.2                          35  "
      ]
     },
     "execution_count": 66,
     "metadata": {},
     "output_type": "execute_result"
    }
   ],
   "source": [
    "weather_df[\"time\"] = pd.to_datetime(weather_df[\"time\"]).dt.date\n",
    "weather_df.head()"
   ]
  },
  {
   "cell_type": "code",
   "execution_count": 67,
   "metadata": {},
   "outputs": [
    {
     "name": "stderr",
     "output_type": "stream",
     "text": [
      "/tmp/ipykernel_40762/2259162570.py:1: SettingWithCopyWarning:\n",
      "\n",
      "\n",
      "A value is trying to be set on a copy of a slice from a DataFrame.\n",
      "Try using .loc[row_indexer,col_indexer] = value instead\n",
      "\n",
      "See the caveats in the documentation: https://pandas.pydata.org/pandas-docs/stable/user_guide/indexing.html#returning-a-view-versus-a-copy\n",
      "\n"
     ]
    },
    {
     "data": {
      "text/html": [
       "<div>\n",
       "<style scoped>\n",
       "    .dataframe tbody tr th:only-of-type {\n",
       "        vertical-align: middle;\n",
       "    }\n",
       "\n",
       "    .dataframe tbody tr th {\n",
       "        vertical-align: top;\n",
       "    }\n",
       "\n",
       "    .dataframe thead th {\n",
       "        text-align: right;\n",
       "    }\n",
       "</style>\n",
       "<table border=\"1\" class=\"dataframe\">\n",
       "  <thead>\n",
       "    <tr style=\"text-align: right;\">\n",
       "      <th></th>\n",
       "      <th>latitude</th>\n",
       "      <th>longitutde</th>\n",
       "      <th>elevation</th>\n",
       "      <th>time</th>\n",
       "      <th>region_id</th>\n",
       "      <th>region_name</th>\n",
       "      <th>temp_2m_max</th>\n",
       "      <th>temp_2m_min</th>\n",
       "      <th>temp_2m_mean</th>\n",
       "      <th>rain_sum</th>\n",
       "      <th>snowfall_sum</th>\n",
       "      <th>windspeed_10m_max</th>\n",
       "      <th>windgusts_10m_max</th>\n",
       "      <th>winddirection_10m_dominant</th>\n",
       "      <th>RegID</th>\n",
       "      <th>RegionID</th>\n",
       "      <th>RegionTypeId</th>\n",
       "      <th>DangerLevel</th>\n",
       "      <th>PublishTime</th>\n",
       "      <th>PublishDate</th>\n",
       "    </tr>\n",
       "  </thead>\n",
       "  <tbody>\n",
       "    <tr>\n",
       "      <th>1</th>\n",
       "      <td>78.0</td>\n",
       "      <td>15.100006</td>\n",
       "      <td>542.0</td>\n",
       "      <td>2018-01-01</td>\n",
       "      <td>3003</td>\n",
       "      <td>Nordenskiold Land</td>\n",
       "      <td>-19.3</td>\n",
       "      <td>-23.0</td>\n",
       "      <td>-21.5</td>\n",
       "      <td>0.0</td>\n",
       "      <td>0.00</td>\n",
       "      <td>6.9</td>\n",
       "      <td>23.8</td>\n",
       "      <td>88</td>\n",
       "      <td>138048</td>\n",
       "      <td>3003</td>\n",
       "      <td>10</td>\n",
       "      <td>2</td>\n",
       "      <td>2018-01-01 15:05:50.190</td>\n",
       "      <td>2018-01-01</td>\n",
       "    </tr>\n",
       "    <tr>\n",
       "      <th>1463</th>\n",
       "      <td>78.0</td>\n",
       "      <td>15.100006</td>\n",
       "      <td>542.0</td>\n",
       "      <td>2018-01-02</td>\n",
       "      <td>3003</td>\n",
       "      <td>Nordenskiold Land</td>\n",
       "      <td>-15.7</td>\n",
       "      <td>-20.2</td>\n",
       "      <td>-17.7</td>\n",
       "      <td>0.0</td>\n",
       "      <td>0.00</td>\n",
       "      <td>6.0</td>\n",
       "      <td>21.2</td>\n",
       "      <td>53</td>\n",
       "      <td>138151</td>\n",
       "      <td>3003</td>\n",
       "      <td>10</td>\n",
       "      <td>2</td>\n",
       "      <td>2018-01-02 15:30:54.467</td>\n",
       "      <td>2018-01-02</td>\n",
       "    </tr>\n",
       "    <tr>\n",
       "      <th>2925</th>\n",
       "      <td>78.0</td>\n",
       "      <td>15.100006</td>\n",
       "      <td>542.0</td>\n",
       "      <td>2018-01-03</td>\n",
       "      <td>3003</td>\n",
       "      <td>Nordenskiold Land</td>\n",
       "      <td>-16.6</td>\n",
       "      <td>-19.4</td>\n",
       "      <td>-17.4</td>\n",
       "      <td>0.0</td>\n",
       "      <td>0.00</td>\n",
       "      <td>5.8</td>\n",
       "      <td>17.6</td>\n",
       "      <td>75</td>\n",
       "      <td>138308</td>\n",
       "      <td>3003</td>\n",
       "      <td>10</td>\n",
       "      <td>2</td>\n",
       "      <td>2018-01-03 15:50:22.463</td>\n",
       "      <td>2018-01-03</td>\n",
       "    </tr>\n",
       "    <tr>\n",
       "      <th>4387</th>\n",
       "      <td>78.0</td>\n",
       "      <td>15.100006</td>\n",
       "      <td>542.0</td>\n",
       "      <td>2018-01-04</td>\n",
       "      <td>3003</td>\n",
       "      <td>Nordenskiold Land</td>\n",
       "      <td>-18.8</td>\n",
       "      <td>-24.1</td>\n",
       "      <td>-22.0</td>\n",
       "      <td>0.0</td>\n",
       "      <td>0.21</td>\n",
       "      <td>9.4</td>\n",
       "      <td>20.9</td>\n",
       "      <td>101</td>\n",
       "      <td>138490</td>\n",
       "      <td>3003</td>\n",
       "      <td>10</td>\n",
       "      <td>2</td>\n",
       "      <td>2018-01-04 15:17:42.117</td>\n",
       "      <td>2018-01-04</td>\n",
       "    </tr>\n",
       "    <tr>\n",
       "      <th>5849</th>\n",
       "      <td>78.0</td>\n",
       "      <td>15.100006</td>\n",
       "      <td>542.0</td>\n",
       "      <td>2018-01-05</td>\n",
       "      <td>3003</td>\n",
       "      <td>Nordenskiold Land</td>\n",
       "      <td>-15.3</td>\n",
       "      <td>-19.5</td>\n",
       "      <td>-18.0</td>\n",
       "      <td>0.0</td>\n",
       "      <td>1.75</td>\n",
       "      <td>16.4</td>\n",
       "      <td>55.4</td>\n",
       "      <td>72</td>\n",
       "      <td>138640</td>\n",
       "      <td>3003</td>\n",
       "      <td>10</td>\n",
       "      <td>2</td>\n",
       "      <td>2018-01-05 15:51:44.643</td>\n",
       "      <td>2018-01-05</td>\n",
       "    </tr>\n",
       "  </tbody>\n",
       "</table>\n",
       "</div>"
      ],
      "text/plain": [
       "      latitude  longitutde  elevation        time  region_id  \\\n",
       "1         78.0   15.100006      542.0  2018-01-01       3003   \n",
       "1463      78.0   15.100006      542.0  2018-01-02       3003   \n",
       "2925      78.0   15.100006      542.0  2018-01-03       3003   \n",
       "4387      78.0   15.100006      542.0  2018-01-04       3003   \n",
       "5849      78.0   15.100006      542.0  2018-01-05       3003   \n",
       "\n",
       "            region_name  temp_2m_max  temp_2m_min  temp_2m_mean  rain_sum  \\\n",
       "1     Nordenskiold Land        -19.3        -23.0         -21.5       0.0   \n",
       "1463  Nordenskiold Land        -15.7        -20.2         -17.7       0.0   \n",
       "2925  Nordenskiold Land        -16.6        -19.4         -17.4       0.0   \n",
       "4387  Nordenskiold Land        -18.8        -24.1         -22.0       0.0   \n",
       "5849  Nordenskiold Land        -15.3        -19.5         -18.0       0.0   \n",
       "\n",
       "      snowfall_sum  windspeed_10m_max  windgusts_10m_max  \\\n",
       "1             0.00                6.9               23.8   \n",
       "1463          0.00                6.0               21.2   \n",
       "2925          0.00                5.8               17.6   \n",
       "4387          0.21                9.4               20.9   \n",
       "5849          1.75               16.4               55.4   \n",
       "\n",
       "      winddirection_10m_dominant   RegID  RegionID  RegionTypeId  DangerLevel  \\\n",
       "1                             88  138048      3003            10            2   \n",
       "1463                          53  138151      3003            10            2   \n",
       "2925                          75  138308      3003            10            2   \n",
       "4387                         101  138490      3003            10            2   \n",
       "5849                          72  138640      3003            10            2   \n",
       "\n",
       "                 PublishTime PublishDate  \n",
       "1    2018-01-01 15:05:50.190  2018-01-01  \n",
       "1463 2018-01-02 15:30:54.467  2018-01-02  \n",
       "2925 2018-01-03 15:50:22.463  2018-01-03  \n",
       "4387 2018-01-04 15:17:42.117  2018-01-04  \n",
       "5849 2018-01-05 15:51:44.643  2018-01-05  "
      ]
     },
     "execution_count": 67,
     "metadata": {},
     "output_type": "execute_result"
    }
   ],
   "source": [
    "df['PublishDate'] = pd.to_datetime(df['PublishTime']).dt.date\n",
    "\n",
    "\n",
    "# Perform the join operation\n",
    "total_df = weather_df.merge(df, left_on='region_id', right_on='RegionID')\n",
    "total_df = total_df[total_df['PublishDate'] == total_df['time']]\n",
    "\n",
    "# Display the merged dataframe\n",
    "total_df.head()\n"
   ]
  },
  {
   "cell_type": "markdown",
   "metadata": {},
   "source": [
    "Lets remove the columns we do not care about"
   ]
  },
  {
   "cell_type": "code",
   "execution_count": 68,
   "metadata": {},
   "outputs": [
    {
     "data": {
      "text/html": [
       "<div>\n",
       "<style scoped>\n",
       "    .dataframe tbody tr th:only-of-type {\n",
       "        vertical-align: middle;\n",
       "    }\n",
       "\n",
       "    .dataframe tbody tr th {\n",
       "        vertical-align: top;\n",
       "    }\n",
       "\n",
       "    .dataframe thead th {\n",
       "        text-align: right;\n",
       "    }\n",
       "</style>\n",
       "<table border=\"1\" class=\"dataframe\">\n",
       "  <thead>\n",
       "    <tr style=\"text-align: right;\">\n",
       "      <th></th>\n",
       "      <th>latitude</th>\n",
       "      <th>longitutde</th>\n",
       "      <th>elevation</th>\n",
       "      <th>time</th>\n",
       "      <th>region_id</th>\n",
       "      <th>temp_2m_max</th>\n",
       "      <th>temp_2m_min</th>\n",
       "      <th>temp_2m_mean</th>\n",
       "      <th>rain_sum</th>\n",
       "      <th>snowfall_sum</th>\n",
       "      <th>windspeed_10m_max</th>\n",
       "      <th>windgusts_10m_max</th>\n",
       "      <th>winddirection_10m_dominant</th>\n",
       "      <th>DangerLevel</th>\n",
       "    </tr>\n",
       "  </thead>\n",
       "  <tbody>\n",
       "    <tr>\n",
       "      <th>1</th>\n",
       "      <td>78.0</td>\n",
       "      <td>15.100006</td>\n",
       "      <td>542.0</td>\n",
       "      <td>2018-01-01</td>\n",
       "      <td>3003</td>\n",
       "      <td>-19.3</td>\n",
       "      <td>-23.0</td>\n",
       "      <td>-21.5</td>\n",
       "      <td>0.0</td>\n",
       "      <td>0.00</td>\n",
       "      <td>6.9</td>\n",
       "      <td>23.8</td>\n",
       "      <td>88</td>\n",
       "      <td>2</td>\n",
       "    </tr>\n",
       "    <tr>\n",
       "      <th>1463</th>\n",
       "      <td>78.0</td>\n",
       "      <td>15.100006</td>\n",
       "      <td>542.0</td>\n",
       "      <td>2018-01-02</td>\n",
       "      <td>3003</td>\n",
       "      <td>-15.7</td>\n",
       "      <td>-20.2</td>\n",
       "      <td>-17.7</td>\n",
       "      <td>0.0</td>\n",
       "      <td>0.00</td>\n",
       "      <td>6.0</td>\n",
       "      <td>21.2</td>\n",
       "      <td>53</td>\n",
       "      <td>2</td>\n",
       "    </tr>\n",
       "    <tr>\n",
       "      <th>2925</th>\n",
       "      <td>78.0</td>\n",
       "      <td>15.100006</td>\n",
       "      <td>542.0</td>\n",
       "      <td>2018-01-03</td>\n",
       "      <td>3003</td>\n",
       "      <td>-16.6</td>\n",
       "      <td>-19.4</td>\n",
       "      <td>-17.4</td>\n",
       "      <td>0.0</td>\n",
       "      <td>0.00</td>\n",
       "      <td>5.8</td>\n",
       "      <td>17.6</td>\n",
       "      <td>75</td>\n",
       "      <td>2</td>\n",
       "    </tr>\n",
       "    <tr>\n",
       "      <th>4387</th>\n",
       "      <td>78.0</td>\n",
       "      <td>15.100006</td>\n",
       "      <td>542.0</td>\n",
       "      <td>2018-01-04</td>\n",
       "      <td>3003</td>\n",
       "      <td>-18.8</td>\n",
       "      <td>-24.1</td>\n",
       "      <td>-22.0</td>\n",
       "      <td>0.0</td>\n",
       "      <td>0.21</td>\n",
       "      <td>9.4</td>\n",
       "      <td>20.9</td>\n",
       "      <td>101</td>\n",
       "      <td>2</td>\n",
       "    </tr>\n",
       "    <tr>\n",
       "      <th>5849</th>\n",
       "      <td>78.0</td>\n",
       "      <td>15.100006</td>\n",
       "      <td>542.0</td>\n",
       "      <td>2018-01-05</td>\n",
       "      <td>3003</td>\n",
       "      <td>-15.3</td>\n",
       "      <td>-19.5</td>\n",
       "      <td>-18.0</td>\n",
       "      <td>0.0</td>\n",
       "      <td>1.75</td>\n",
       "      <td>16.4</td>\n",
       "      <td>55.4</td>\n",
       "      <td>72</td>\n",
       "      <td>2</td>\n",
       "    </tr>\n",
       "  </tbody>\n",
       "</table>\n",
       "</div>"
      ],
      "text/plain": [
       "      latitude  longitutde  elevation        time  region_id  temp_2m_max  \\\n",
       "1         78.0   15.100006      542.0  2018-01-01       3003        -19.3   \n",
       "1463      78.0   15.100006      542.0  2018-01-02       3003        -15.7   \n",
       "2925      78.0   15.100006      542.0  2018-01-03       3003        -16.6   \n",
       "4387      78.0   15.100006      542.0  2018-01-04       3003        -18.8   \n",
       "5849      78.0   15.100006      542.0  2018-01-05       3003        -15.3   \n",
       "\n",
       "      temp_2m_min  temp_2m_mean  rain_sum  snowfall_sum  windspeed_10m_max  \\\n",
       "1           -23.0         -21.5       0.0          0.00                6.9   \n",
       "1463        -20.2         -17.7       0.0          0.00                6.0   \n",
       "2925        -19.4         -17.4       0.0          0.00                5.8   \n",
       "4387        -24.1         -22.0       0.0          0.21                9.4   \n",
       "5849        -19.5         -18.0       0.0          1.75               16.4   \n",
       "\n",
       "      windgusts_10m_max  winddirection_10m_dominant  DangerLevel  \n",
       "1                  23.8                          88            2  \n",
       "1463               21.2                          53            2  \n",
       "2925               17.6                          75            2  \n",
       "4387               20.9                         101            2  \n",
       "5849               55.4                          72            2  "
      ]
     },
     "execution_count": 68,
     "metadata": {},
     "output_type": "execute_result"
    }
   ],
   "source": [
    "total_df = total_df.drop(columns=[\"RegID\", \"RegionID\", \"RegionTypeId\", \"region_name\", \"PublishDate\", \"PublishTime\"])\n",
    "total_df.head()"
   ]
  },
  {
   "cell_type": "code",
   "execution_count": 69,
   "metadata": {},
   "outputs": [
    {
     "name": "stdout",
     "output_type": "stream",
     "text": [
      "<class 'pandas.core.frame.DataFrame'>\n",
      "Int64Index: 20441 entries, 1 to 29881832\n",
      "Data columns (total 14 columns):\n",
      " #   Column                      Non-Null Count  Dtype  \n",
      "---  ------                      --------------  -----  \n",
      " 0   latitude                    20441 non-null  float64\n",
      " 1   longitutde                  20441 non-null  float64\n",
      " 2   elevation                   20441 non-null  float64\n",
      " 3   time                        20441 non-null  object \n",
      " 4   region_id                   20441 non-null  int64  \n",
      " 5   temp_2m_max                 20441 non-null  float64\n",
      " 6   temp_2m_min                 20441 non-null  float64\n",
      " 7   temp_2m_mean                20441 non-null  float64\n",
      " 8   rain_sum                    20441 non-null  float64\n",
      " 9   snowfall_sum                20441 non-null  float64\n",
      " 10  windspeed_10m_max           20441 non-null  float64\n",
      " 11  windgusts_10m_max           20441 non-null  float64\n",
      " 12  winddirection_10m_dominant  20441 non-null  int64  \n",
      " 13  DangerLevel                 20441 non-null  int64  \n",
      "dtypes: float64(10), int64(3), object(1)\n",
      "memory usage: 2.3+ MB\n",
      "None\n"
     ]
    }
   ],
   "source": [
    "print(total_df.info())"
   ]
  },
  {
   "cell_type": "code",
   "execution_count": 70,
   "metadata": {},
   "outputs": [
    {
     "data": {
      "application/vnd.plotly.v1+json": {
       "config": {
        "plotlyServerURL": "https://plot.ly"
       },
       "data": [
        {
         "coloraxis": "coloraxis",
         "hovertemplate": "Features: %{x}<br>Features: %{y}<br>Correlation: %{z}<extra></extra>",
         "name": "0",
         "type": "heatmap",
         "x": [
          "temp_2m_max",
          "temp_2m_min",
          "temp_2m_mean",
          "rain_sum",
          "snowfall_sum",
          "windspeed_10m_max",
          "windgusts_10m_max",
          "winddirection_10m_dominant",
          "DangerLevel"
         ],
         "xaxis": "x",
         "y": [
          "temp_2m_max",
          "temp_2m_min",
          "temp_2m_mean",
          "rain_sum",
          "snowfall_sum",
          "windspeed_10m_max",
          "windgusts_10m_max",
          "winddirection_10m_dominant",
          "DangerLevel"
         ],
         "yaxis": "y",
         "z": [
          [
           1,
           0.9576968997187735,
           0.9900022258112072,
           0.2724621929961241,
           -0.2015242465751198,
           0.07942082493100334,
           -0.00801240738150487,
           0.05339903679076117,
           -0.5048554360546355
          ],
          [
           0.9576968997187735,
           1,
           0.9861888957285708,
           0.3249121144600548,
           -0.1782576526722237,
           0.1660077384584012,
           0.047502195001837194,
           0.07500624064660295,
           -0.5219573263738887
          ],
          [
           0.9900022258112072,
           0.9861888957285708,
           1,
           0.2975690299994773,
           -0.19044170813191538,
           0.11966404448975343,
           0.016250017324343276,
           0.06386660209394059,
           -0.5161932818154081
          ],
          [
           0.2724621929961241,
           0.3249121144600548,
           0.2975690299994773,
           1,
           -0.01825536338183375,
           0.18742465060822155,
           0.3212191019811047,
           0.10116247207936896,
           -0.18183415516092558
          ],
          [
           -0.2015242465751198,
           -0.1782576526722237,
           -0.19044170813191538,
           -0.01825536338183375,
           1,
           0.08903717017399163,
           0.3966547205937798,
           0.1017566996938315,
           0.3323742636414389
          ],
          [
           0.07942082493100334,
           0.1660077384584012,
           0.11966404448975343,
           0.18742465060822155,
           0.08903717017399163,
           1,
           0.6661002486527323,
           0.11284722932145029,
           0.045790440968924186
          ],
          [
           -0.00801240738150487,
           0.047502195001837194,
           0.016250017324343276,
           0.3212191019811047,
           0.3966547205937798,
           0.6661002486527323,
           1,
           0.1820427909668215,
           0.1510942347176607
          ],
          [
           0.05339903679076117,
           0.07500624064660295,
           0.06386660209394059,
           0.10116247207936896,
           0.1017566996938315,
           0.11284722932145029,
           0.1820427909668215,
           1,
           -0.002652197354604468
          ],
          [
           -0.5048554360546355,
           -0.5219573263738887,
           -0.5161932818154081,
           -0.18183415516092558,
           0.3323742636414389,
           0.045790440968924186,
           0.1510942347176607,
           -0.002652197354604468,
           1
          ]
         ]
        }
       ],
       "layout": {
        "coloraxis": {
         "colorbar": {
          "title": {
           "text": "Correlation"
          }
         },
         "colorscale": [
          [
           0,
           "#0d0887"
          ],
          [
           0.1111111111111111,
           "#46039f"
          ],
          [
           0.2222222222222222,
           "#7201a8"
          ],
          [
           0.3333333333333333,
           "#9c179e"
          ],
          [
           0.4444444444444444,
           "#bd3786"
          ],
          [
           0.5555555555555556,
           "#d8576b"
          ],
          [
           0.6666666666666666,
           "#ed7953"
          ],
          [
           0.7777777777777778,
           "#fb9f3a"
          ],
          [
           0.8888888888888888,
           "#fdca26"
          ],
          [
           1,
           "#f0f921"
          ]
         ]
        },
        "height": 600,
        "margin": {
         "t": 60
        },
        "template": {
         "data": {
          "bar": [
           {
            "error_x": {
             "color": "#2a3f5f"
            },
            "error_y": {
             "color": "#2a3f5f"
            },
            "marker": {
             "line": {
              "color": "#E5ECF6",
              "width": 0.5
             },
             "pattern": {
              "fillmode": "overlay",
              "size": 10,
              "solidity": 0.2
             }
            },
            "type": "bar"
           }
          ],
          "barpolar": [
           {
            "marker": {
             "line": {
              "color": "#E5ECF6",
              "width": 0.5
             },
             "pattern": {
              "fillmode": "overlay",
              "size": 10,
              "solidity": 0.2
             }
            },
            "type": "barpolar"
           }
          ],
          "carpet": [
           {
            "aaxis": {
             "endlinecolor": "#2a3f5f",
             "gridcolor": "white",
             "linecolor": "white",
             "minorgridcolor": "white",
             "startlinecolor": "#2a3f5f"
            },
            "baxis": {
             "endlinecolor": "#2a3f5f",
             "gridcolor": "white",
             "linecolor": "white",
             "minorgridcolor": "white",
             "startlinecolor": "#2a3f5f"
            },
            "type": "carpet"
           }
          ],
          "choropleth": [
           {
            "colorbar": {
             "outlinewidth": 0,
             "ticks": ""
            },
            "type": "choropleth"
           }
          ],
          "contour": [
           {
            "colorbar": {
             "outlinewidth": 0,
             "ticks": ""
            },
            "colorscale": [
             [
              0,
              "#0d0887"
             ],
             [
              0.1111111111111111,
              "#46039f"
             ],
             [
              0.2222222222222222,
              "#7201a8"
             ],
             [
              0.3333333333333333,
              "#9c179e"
             ],
             [
              0.4444444444444444,
              "#bd3786"
             ],
             [
              0.5555555555555556,
              "#d8576b"
             ],
             [
              0.6666666666666666,
              "#ed7953"
             ],
             [
              0.7777777777777778,
              "#fb9f3a"
             ],
             [
              0.8888888888888888,
              "#fdca26"
             ],
             [
              1,
              "#f0f921"
             ]
            ],
            "type": "contour"
           }
          ],
          "contourcarpet": [
           {
            "colorbar": {
             "outlinewidth": 0,
             "ticks": ""
            },
            "type": "contourcarpet"
           }
          ],
          "heatmap": [
           {
            "colorbar": {
             "outlinewidth": 0,
             "ticks": ""
            },
            "colorscale": [
             [
              0,
              "#0d0887"
             ],
             [
              0.1111111111111111,
              "#46039f"
             ],
             [
              0.2222222222222222,
              "#7201a8"
             ],
             [
              0.3333333333333333,
              "#9c179e"
             ],
             [
              0.4444444444444444,
              "#bd3786"
             ],
             [
              0.5555555555555556,
              "#d8576b"
             ],
             [
              0.6666666666666666,
              "#ed7953"
             ],
             [
              0.7777777777777778,
              "#fb9f3a"
             ],
             [
              0.8888888888888888,
              "#fdca26"
             ],
             [
              1,
              "#f0f921"
             ]
            ],
            "type": "heatmap"
           }
          ],
          "heatmapgl": [
           {
            "colorbar": {
             "outlinewidth": 0,
             "ticks": ""
            },
            "colorscale": [
             [
              0,
              "#0d0887"
             ],
             [
              0.1111111111111111,
              "#46039f"
             ],
             [
              0.2222222222222222,
              "#7201a8"
             ],
             [
              0.3333333333333333,
              "#9c179e"
             ],
             [
              0.4444444444444444,
              "#bd3786"
             ],
             [
              0.5555555555555556,
              "#d8576b"
             ],
             [
              0.6666666666666666,
              "#ed7953"
             ],
             [
              0.7777777777777778,
              "#fb9f3a"
             ],
             [
              0.8888888888888888,
              "#fdca26"
             ],
             [
              1,
              "#f0f921"
             ]
            ],
            "type": "heatmapgl"
           }
          ],
          "histogram": [
           {
            "marker": {
             "pattern": {
              "fillmode": "overlay",
              "size": 10,
              "solidity": 0.2
             }
            },
            "type": "histogram"
           }
          ],
          "histogram2d": [
           {
            "colorbar": {
             "outlinewidth": 0,
             "ticks": ""
            },
            "colorscale": [
             [
              0,
              "#0d0887"
             ],
             [
              0.1111111111111111,
              "#46039f"
             ],
             [
              0.2222222222222222,
              "#7201a8"
             ],
             [
              0.3333333333333333,
              "#9c179e"
             ],
             [
              0.4444444444444444,
              "#bd3786"
             ],
             [
              0.5555555555555556,
              "#d8576b"
             ],
             [
              0.6666666666666666,
              "#ed7953"
             ],
             [
              0.7777777777777778,
              "#fb9f3a"
             ],
             [
              0.8888888888888888,
              "#fdca26"
             ],
             [
              1,
              "#f0f921"
             ]
            ],
            "type": "histogram2d"
           }
          ],
          "histogram2dcontour": [
           {
            "colorbar": {
             "outlinewidth": 0,
             "ticks": ""
            },
            "colorscale": [
             [
              0,
              "#0d0887"
             ],
             [
              0.1111111111111111,
              "#46039f"
             ],
             [
              0.2222222222222222,
              "#7201a8"
             ],
             [
              0.3333333333333333,
              "#9c179e"
             ],
             [
              0.4444444444444444,
              "#bd3786"
             ],
             [
              0.5555555555555556,
              "#d8576b"
             ],
             [
              0.6666666666666666,
              "#ed7953"
             ],
             [
              0.7777777777777778,
              "#fb9f3a"
             ],
             [
              0.8888888888888888,
              "#fdca26"
             ],
             [
              1,
              "#f0f921"
             ]
            ],
            "type": "histogram2dcontour"
           }
          ],
          "mesh3d": [
           {
            "colorbar": {
             "outlinewidth": 0,
             "ticks": ""
            },
            "type": "mesh3d"
           }
          ],
          "parcoords": [
           {
            "line": {
             "colorbar": {
              "outlinewidth": 0,
              "ticks": ""
             }
            },
            "type": "parcoords"
           }
          ],
          "pie": [
           {
            "automargin": true,
            "type": "pie"
           }
          ],
          "scatter": [
           {
            "fillpattern": {
             "fillmode": "overlay",
             "size": 10,
             "solidity": 0.2
            },
            "type": "scatter"
           }
          ],
          "scatter3d": [
           {
            "line": {
             "colorbar": {
              "outlinewidth": 0,
              "ticks": ""
             }
            },
            "marker": {
             "colorbar": {
              "outlinewidth": 0,
              "ticks": ""
             }
            },
            "type": "scatter3d"
           }
          ],
          "scattercarpet": [
           {
            "marker": {
             "colorbar": {
              "outlinewidth": 0,
              "ticks": ""
             }
            },
            "type": "scattercarpet"
           }
          ],
          "scattergeo": [
           {
            "marker": {
             "colorbar": {
              "outlinewidth": 0,
              "ticks": ""
             }
            },
            "type": "scattergeo"
           }
          ],
          "scattergl": [
           {
            "marker": {
             "colorbar": {
              "outlinewidth": 0,
              "ticks": ""
             }
            },
            "type": "scattergl"
           }
          ],
          "scattermapbox": [
           {
            "marker": {
             "colorbar": {
              "outlinewidth": 0,
              "ticks": ""
             }
            },
            "type": "scattermapbox"
           }
          ],
          "scatterpolar": [
           {
            "marker": {
             "colorbar": {
              "outlinewidth": 0,
              "ticks": ""
             }
            },
            "type": "scatterpolar"
           }
          ],
          "scatterpolargl": [
           {
            "marker": {
             "colorbar": {
              "outlinewidth": 0,
              "ticks": ""
             }
            },
            "type": "scatterpolargl"
           }
          ],
          "scatterternary": [
           {
            "marker": {
             "colorbar": {
              "outlinewidth": 0,
              "ticks": ""
             }
            },
            "type": "scatterternary"
           }
          ],
          "surface": [
           {
            "colorbar": {
             "outlinewidth": 0,
             "ticks": ""
            },
            "colorscale": [
             [
              0,
              "#0d0887"
             ],
             [
              0.1111111111111111,
              "#46039f"
             ],
             [
              0.2222222222222222,
              "#7201a8"
             ],
             [
              0.3333333333333333,
              "#9c179e"
             ],
             [
              0.4444444444444444,
              "#bd3786"
             ],
             [
              0.5555555555555556,
              "#d8576b"
             ],
             [
              0.6666666666666666,
              "#ed7953"
             ],
             [
              0.7777777777777778,
              "#fb9f3a"
             ],
             [
              0.8888888888888888,
              "#fdca26"
             ],
             [
              1,
              "#f0f921"
             ]
            ],
            "type": "surface"
           }
          ],
          "table": [
           {
            "cells": {
             "fill": {
              "color": "#EBF0F8"
             },
             "line": {
              "color": "white"
             }
            },
            "header": {
             "fill": {
              "color": "#C8D4E3"
             },
             "line": {
              "color": "white"
             }
            },
            "type": "table"
           }
          ]
         },
         "layout": {
          "annotationdefaults": {
           "arrowcolor": "#2a3f5f",
           "arrowhead": 0,
           "arrowwidth": 1
          },
          "autotypenumbers": "strict",
          "coloraxis": {
           "colorbar": {
            "outlinewidth": 0,
            "ticks": ""
           }
          },
          "colorscale": {
           "diverging": [
            [
             0,
             "#8e0152"
            ],
            [
             0.1,
             "#c51b7d"
            ],
            [
             0.2,
             "#de77ae"
            ],
            [
             0.3,
             "#f1b6da"
            ],
            [
             0.4,
             "#fde0ef"
            ],
            [
             0.5,
             "#f7f7f7"
            ],
            [
             0.6,
             "#e6f5d0"
            ],
            [
             0.7,
             "#b8e186"
            ],
            [
             0.8,
             "#7fbc41"
            ],
            [
             0.9,
             "#4d9221"
            ],
            [
             1,
             "#276419"
            ]
           ],
           "sequential": [
            [
             0,
             "#0d0887"
            ],
            [
             0.1111111111111111,
             "#46039f"
            ],
            [
             0.2222222222222222,
             "#7201a8"
            ],
            [
             0.3333333333333333,
             "#9c179e"
            ],
            [
             0.4444444444444444,
             "#bd3786"
            ],
            [
             0.5555555555555556,
             "#d8576b"
            ],
            [
             0.6666666666666666,
             "#ed7953"
            ],
            [
             0.7777777777777778,
             "#fb9f3a"
            ],
            [
             0.8888888888888888,
             "#fdca26"
            ],
            [
             1,
             "#f0f921"
            ]
           ],
           "sequentialminus": [
            [
             0,
             "#0d0887"
            ],
            [
             0.1111111111111111,
             "#46039f"
            ],
            [
             0.2222222222222222,
             "#7201a8"
            ],
            [
             0.3333333333333333,
             "#9c179e"
            ],
            [
             0.4444444444444444,
             "#bd3786"
            ],
            [
             0.5555555555555556,
             "#d8576b"
            ],
            [
             0.6666666666666666,
             "#ed7953"
            ],
            [
             0.7777777777777778,
             "#fb9f3a"
            ],
            [
             0.8888888888888888,
             "#fdca26"
            ],
            [
             1,
             "#f0f921"
            ]
           ]
          },
          "colorway": [
           "#636efa",
           "#EF553B",
           "#00cc96",
           "#ab63fa",
           "#FFA15A",
           "#19d3f3",
           "#FF6692",
           "#B6E880",
           "#FF97FF",
           "#FECB52"
          ],
          "font": {
           "color": "#2a3f5f"
          },
          "geo": {
           "bgcolor": "white",
           "lakecolor": "white",
           "landcolor": "#E5ECF6",
           "showlakes": true,
           "showland": true,
           "subunitcolor": "white"
          },
          "hoverlabel": {
           "align": "left"
          },
          "hovermode": "closest",
          "mapbox": {
           "style": "light"
          },
          "paper_bgcolor": "white",
          "plot_bgcolor": "#E5ECF6",
          "polar": {
           "angularaxis": {
            "gridcolor": "white",
            "linecolor": "white",
            "ticks": ""
           },
           "bgcolor": "#E5ECF6",
           "radialaxis": {
            "gridcolor": "white",
            "linecolor": "white",
            "ticks": ""
           }
          },
          "scene": {
           "xaxis": {
            "backgroundcolor": "#E5ECF6",
            "gridcolor": "white",
            "gridwidth": 2,
            "linecolor": "white",
            "showbackground": true,
            "ticks": "",
            "zerolinecolor": "white"
           },
           "yaxis": {
            "backgroundcolor": "#E5ECF6",
            "gridcolor": "white",
            "gridwidth": 2,
            "linecolor": "white",
            "showbackground": true,
            "ticks": "",
            "zerolinecolor": "white"
           },
           "zaxis": {
            "backgroundcolor": "#E5ECF6",
            "gridcolor": "white",
            "gridwidth": 2,
            "linecolor": "white",
            "showbackground": true,
            "ticks": "",
            "zerolinecolor": "white"
           }
          },
          "shapedefaults": {
           "line": {
            "color": "#2a3f5f"
           }
          },
          "ternary": {
           "aaxis": {
            "gridcolor": "white",
            "linecolor": "white",
            "ticks": ""
           },
           "baxis": {
            "gridcolor": "white",
            "linecolor": "white",
            "ticks": ""
           },
           "bgcolor": "#E5ECF6",
           "caxis": {
            "gridcolor": "white",
            "linecolor": "white",
            "ticks": ""
           }
          },
          "title": {
           "x": 0.05
          },
          "xaxis": {
           "automargin": true,
           "gridcolor": "white",
           "linecolor": "white",
           "ticks": "",
           "title": {
            "standoff": 15
           },
           "zerolinecolor": "white",
           "zerolinewidth": 2
          },
          "yaxis": {
           "automargin": true,
           "gridcolor": "white",
           "linecolor": "white",
           "ticks": "",
           "title": {
            "standoff": 15
           },
           "zerolinecolor": "white",
           "zerolinewidth": 2
          }
         }
        },
        "title": {
         "text": "Correlation Chart"
        },
        "width": 800,
        "xaxis": {
         "anchor": "y",
         "constrain": "domain",
         "domain": [
          0,
          1
         ],
         "scaleanchor": "y",
         "title": {
          "text": "Features"
         }
        },
        "yaxis": {
         "anchor": "x",
         "autorange": "reversed",
         "constrain": "domain",
         "domain": [
          0,
          1
         ],
         "title": {
          "text": "Features"
         }
        }
       }
      }
     },
     "metadata": {},
     "output_type": "display_data"
    }
   ],
   "source": [
    "import plotly.express as px\n",
    "\n",
    "# Select the relevant columns for correlation analysis\n",
    "columns_for_correlation = ['temp_2m_max', 'temp_2m_min', 'temp_2m_mean', 'rain_sum',\n",
    "                           'snowfall_sum', 'windspeed_10m_max', 'windgusts_10m_max',\n",
    "                           'winddirection_10m_dominant', 'DangerLevel']\n",
    "\n",
    "# Subset the dataframe with the selected columns\n",
    "subset_df = total_df[columns_for_correlation]\n",
    "\n",
    "# Calculate the correlation matrix\n",
    "corr_matrix = subset_df.corr()\n",
    "\n",
    "# Create the correlation heatmap using Plotly\n",
    "fig = px.imshow(corr_matrix, labels=dict(x=\"Features\", y=\"Features\", color=\"Correlation\"))\n",
    "fig.update_layout(title=\"Correlation Chart\", width=800, height=600)\n",
    "fig.show()"
   ]
  },
  {
   "cell_type": "markdown",
   "metadata": {},
   "source": [
    "This correlation chart is deemed to be a bit bad at actual representing correlation, since the weather now is on the same day as the forecast. However there are some interesting patterns here which we will explore further:\n",
    "- Negative correlation with temperature \n",
    "- Relatively high correlation with snowfall sum\n",
    "\n",
    "We will now revisit Trollheimen to see how this actually correlates."
   ]
  },
  {
   "cell_type": "code",
   "execution_count": 71,
   "metadata": {},
   "outputs": [
    {
     "data": {
      "text/html": [
       "<div>\n",
       "<style scoped>\n",
       "    .dataframe tbody tr th:only-of-type {\n",
       "        vertical-align: middle;\n",
       "    }\n",
       "\n",
       "    .dataframe tbody tr th {\n",
       "        vertical-align: top;\n",
       "    }\n",
       "\n",
       "    .dataframe thead th {\n",
       "        text-align: right;\n",
       "    }\n",
       "</style>\n",
       "<table border=\"1\" class=\"dataframe\">\n",
       "  <thead>\n",
       "    <tr style=\"text-align: right;\">\n",
       "      <th></th>\n",
       "      <th>latitude</th>\n",
       "      <th>longitutde</th>\n",
       "      <th>elevation</th>\n",
       "      <th>time</th>\n",
       "      <th>region_id</th>\n",
       "      <th>temp_2m_max</th>\n",
       "      <th>temp_2m_min</th>\n",
       "      <th>temp_2m_mean</th>\n",
       "      <th>rain_sum</th>\n",
       "      <th>snowfall_sum</th>\n",
       "      <th>windspeed_10m_max</th>\n",
       "      <th>windgusts_10m_max</th>\n",
       "      <th>winddirection_10m_dominant</th>\n",
       "      <th>DangerLevel</th>\n",
       "    </tr>\n",
       "  </thead>\n",
       "  <tbody>\n",
       "    <tr>\n",
       "      <th>19210690</th>\n",
       "      <td>62.800003</td>\n",
       "      <td>9.199997</td>\n",
       "      <td>1024.0</td>\n",
       "      <td>2018-01-01</td>\n",
       "      <td>3022</td>\n",
       "      <td>-5.6</td>\n",
       "      <td>-12.8</td>\n",
       "      <td>-10.5</td>\n",
       "      <td>0.0</td>\n",
       "      <td>1.05</td>\n",
       "      <td>9.4</td>\n",
       "      <td>47.9</td>\n",
       "      <td>184</td>\n",
       "      <td>2</td>\n",
       "    </tr>\n",
       "    <tr>\n",
       "      <th>19212152</th>\n",
       "      <td>62.800003</td>\n",
       "      <td>9.199997</td>\n",
       "      <td>1024.0</td>\n",
       "      <td>2018-01-02</td>\n",
       "      <td>3022</td>\n",
       "      <td>-5.2</td>\n",
       "      <td>-12.5</td>\n",
       "      <td>-7.1</td>\n",
       "      <td>0.0</td>\n",
       "      <td>1.12</td>\n",
       "      <td>8.9</td>\n",
       "      <td>29.2</td>\n",
       "      <td>237</td>\n",
       "      <td>2</td>\n",
       "    </tr>\n",
       "    <tr>\n",
       "      <th>19213614</th>\n",
       "      <td>62.800003</td>\n",
       "      <td>9.199997</td>\n",
       "      <td>1024.0</td>\n",
       "      <td>2018-01-03</td>\n",
       "      <td>3022</td>\n",
       "      <td>-11.2</td>\n",
       "      <td>-15.2</td>\n",
       "      <td>-13.3</td>\n",
       "      <td>0.0</td>\n",
       "      <td>0.07</td>\n",
       "      <td>9.1</td>\n",
       "      <td>33.1</td>\n",
       "      <td>182</td>\n",
       "      <td>2</td>\n",
       "    </tr>\n",
       "    <tr>\n",
       "      <th>19215076</th>\n",
       "      <td>62.800003</td>\n",
       "      <td>9.199997</td>\n",
       "      <td>1024.0</td>\n",
       "      <td>2018-01-04</td>\n",
       "      <td>3022</td>\n",
       "      <td>-8.9</td>\n",
       "      <td>-10.9</td>\n",
       "      <td>-9.6</td>\n",
       "      <td>0.0</td>\n",
       "      <td>1.68</td>\n",
       "      <td>8.4</td>\n",
       "      <td>29.9</td>\n",
       "      <td>135</td>\n",
       "      <td>2</td>\n",
       "    </tr>\n",
       "    <tr>\n",
       "      <th>19216538</th>\n",
       "      <td>62.800003</td>\n",
       "      <td>9.199997</td>\n",
       "      <td>1024.0</td>\n",
       "      <td>2018-01-05</td>\n",
       "      <td>3022</td>\n",
       "      <td>-9.0</td>\n",
       "      <td>-11.6</td>\n",
       "      <td>-10.1</td>\n",
       "      <td>0.0</td>\n",
       "      <td>0.35</td>\n",
       "      <td>6.6</td>\n",
       "      <td>28.8</td>\n",
       "      <td>266</td>\n",
       "      <td>2</td>\n",
       "    </tr>\n",
       "    <tr>\n",
       "      <th>...</th>\n",
       "      <td>...</td>\n",
       "      <td>...</td>\n",
       "      <td>...</td>\n",
       "      <td>...</td>\n",
       "      <td>...</td>\n",
       "      <td>...</td>\n",
       "      <td>...</td>\n",
       "      <td>...</td>\n",
       "      <td>...</td>\n",
       "      <td>...</td>\n",
       "      <td>...</td>\n",
       "      <td>...</td>\n",
       "      <td>...</td>\n",
       "      <td>...</td>\n",
       "    </tr>\n",
       "    <tr>\n",
       "      <th>21339361</th>\n",
       "      <td>62.800003</td>\n",
       "      <td>9.199997</td>\n",
       "      <td>1024.0</td>\n",
       "      <td>2021-12-27</td>\n",
       "      <td>3022</td>\n",
       "      <td>-8.3</td>\n",
       "      <td>-15.1</td>\n",
       "      <td>-12.5</td>\n",
       "      <td>0.0</td>\n",
       "      <td>0.00</td>\n",
       "      <td>9.7</td>\n",
       "      <td>31.7</td>\n",
       "      <td>203</td>\n",
       "      <td>3</td>\n",
       "    </tr>\n",
       "    <tr>\n",
       "      <th>21339362</th>\n",
       "      <td>62.800003</td>\n",
       "      <td>9.199997</td>\n",
       "      <td>1024.0</td>\n",
       "      <td>2021-12-27</td>\n",
       "      <td>3022</td>\n",
       "      <td>-8.3</td>\n",
       "      <td>-15.1</td>\n",
       "      <td>-12.5</td>\n",
       "      <td>0.0</td>\n",
       "      <td>0.00</td>\n",
       "      <td>9.7</td>\n",
       "      <td>31.7</td>\n",
       "      <td>203</td>\n",
       "      <td>3</td>\n",
       "    </tr>\n",
       "    <tr>\n",
       "      <th>21340824</th>\n",
       "      <td>62.800003</td>\n",
       "      <td>9.199997</td>\n",
       "      <td>1024.0</td>\n",
       "      <td>2021-12-28</td>\n",
       "      <td>3022</td>\n",
       "      <td>-10.8</td>\n",
       "      <td>-14.9</td>\n",
       "      <td>-13.3</td>\n",
       "      <td>0.0</td>\n",
       "      <td>0.00</td>\n",
       "      <td>10.3</td>\n",
       "      <td>34.6</td>\n",
       "      <td>205</td>\n",
       "      <td>2</td>\n",
       "    </tr>\n",
       "    <tr>\n",
       "      <th>21342286</th>\n",
       "      <td>62.800003</td>\n",
       "      <td>9.199997</td>\n",
       "      <td>1024.0</td>\n",
       "      <td>2021-12-29</td>\n",
       "      <td>3022</td>\n",
       "      <td>-11.6</td>\n",
       "      <td>-15.3</td>\n",
       "      <td>-13.3</td>\n",
       "      <td>0.0</td>\n",
       "      <td>0.00</td>\n",
       "      <td>7.5</td>\n",
       "      <td>27.0</td>\n",
       "      <td>214</td>\n",
       "      <td>3</td>\n",
       "    </tr>\n",
       "    <tr>\n",
       "      <th>21343748</th>\n",
       "      <td>62.800003</td>\n",
       "      <td>9.199997</td>\n",
       "      <td>1024.0</td>\n",
       "      <td>2021-12-30</td>\n",
       "      <td>3022</td>\n",
       "      <td>-6.0</td>\n",
       "      <td>-14.0</td>\n",
       "      <td>-10.1</td>\n",
       "      <td>0.0</td>\n",
       "      <td>0.98</td>\n",
       "      <td>9.7</td>\n",
       "      <td>38.9</td>\n",
       "      <td>218</td>\n",
       "      <td>3</td>\n",
       "    </tr>\n",
       "  </tbody>\n",
       "</table>\n",
       "<p>1460 rows × 14 columns</p>\n",
       "</div>"
      ],
      "text/plain": [
       "           latitude  longitutde  elevation        time  region_id  \\\n",
       "19210690  62.800003    9.199997     1024.0  2018-01-01       3022   \n",
       "19212152  62.800003    9.199997     1024.0  2018-01-02       3022   \n",
       "19213614  62.800003    9.199997     1024.0  2018-01-03       3022   \n",
       "19215076  62.800003    9.199997     1024.0  2018-01-04       3022   \n",
       "19216538  62.800003    9.199997     1024.0  2018-01-05       3022   \n",
       "...             ...         ...        ...         ...        ...   \n",
       "21339361  62.800003    9.199997     1024.0  2021-12-27       3022   \n",
       "21339362  62.800003    9.199997     1024.0  2021-12-27       3022   \n",
       "21340824  62.800003    9.199997     1024.0  2021-12-28       3022   \n",
       "21342286  62.800003    9.199997     1024.0  2021-12-29       3022   \n",
       "21343748  62.800003    9.199997     1024.0  2021-12-30       3022   \n",
       "\n",
       "          temp_2m_max  temp_2m_min  temp_2m_mean  rain_sum  snowfall_sum  \\\n",
       "19210690         -5.6        -12.8         -10.5       0.0          1.05   \n",
       "19212152         -5.2        -12.5          -7.1       0.0          1.12   \n",
       "19213614        -11.2        -15.2         -13.3       0.0          0.07   \n",
       "19215076         -8.9        -10.9          -9.6       0.0          1.68   \n",
       "19216538         -9.0        -11.6         -10.1       0.0          0.35   \n",
       "...               ...          ...           ...       ...           ...   \n",
       "21339361         -8.3        -15.1         -12.5       0.0          0.00   \n",
       "21339362         -8.3        -15.1         -12.5       0.0          0.00   \n",
       "21340824        -10.8        -14.9         -13.3       0.0          0.00   \n",
       "21342286        -11.6        -15.3         -13.3       0.0          0.00   \n",
       "21343748         -6.0        -14.0         -10.1       0.0          0.98   \n",
       "\n",
       "          windspeed_10m_max  windgusts_10m_max  winddirection_10m_dominant  \\\n",
       "19210690                9.4               47.9                         184   \n",
       "19212152                8.9               29.2                         237   \n",
       "19213614                9.1               33.1                         182   \n",
       "19215076                8.4               29.9                         135   \n",
       "19216538                6.6               28.8                         266   \n",
       "...                     ...                ...                         ...   \n",
       "21339361                9.7               31.7                         203   \n",
       "21339362                9.7               31.7                         203   \n",
       "21340824               10.3               34.6                         205   \n",
       "21342286                7.5               27.0                         214   \n",
       "21343748                9.7               38.9                         218   \n",
       "\n",
       "          DangerLevel  \n",
       "19210690            2  \n",
       "19212152            2  \n",
       "19213614            2  \n",
       "19215076            2  \n",
       "19216538            2  \n",
       "...               ...  \n",
       "21339361            3  \n",
       "21339362            3  \n",
       "21340824            2  \n",
       "21342286            3  \n",
       "21343748            3  \n",
       "\n",
       "[1460 rows x 14 columns]"
      ]
     },
     "execution_count": 71,
     "metadata": {},
     "output_type": "execute_result"
    }
   ],
   "source": [
    "df_trollheimen = total_df.loc[total_df['region_id'] == 3022].copy()\n",
    "df_trollheimen"
   ]
  },
  {
   "cell_type": "code",
   "execution_count": 77,
   "metadata": {},
   "outputs": [
    {
     "name": "stderr",
     "output_type": "stream",
     "text": [
      "/tmp/ipykernel_40762/48388977.py:7: FutureWarning:\n",
      "\n",
      "Comparison of Timestamp with datetime.date is deprecated in order to match the standard library behavior. In a future version these will be considered non-comparable. Use 'ts == pd.Timestamp(date)' or 'ts.date() == date' instead.\n",
      "\n"
     ]
    },
    {
     "data": {
      "application/vnd.plotly.v1+json": {
       "config": {
        "plotlyServerURL": "https://plot.ly"
       },
       "data": [
        {
         "name": "Snowfall Sum",
         "type": "scatter",
         "x": [
          "2019-11-01",
          "2019-11-02",
          "2019-11-03",
          "2019-11-04",
          "2019-11-05",
          "2019-11-06",
          "2019-11-07",
          "2019-11-08",
          "2019-11-09",
          "2019-11-10",
          "2019-11-11",
          "2019-11-12",
          "2019-11-13",
          "2019-11-14",
          "2019-11-15",
          "2019-11-16",
          "2019-11-17",
          "2019-11-18",
          "2019-11-19",
          "2019-11-20",
          "2019-11-21",
          "2019-11-22",
          "2019-11-23",
          "2019-11-24",
          "2019-11-25",
          "2019-11-26",
          "2019-11-27",
          "2019-11-28",
          "2019-11-29",
          "2019-11-30",
          "2019-11-30",
          "2019-12-01",
          "2019-12-02",
          "2019-12-03",
          "2019-12-04",
          "2019-12-05",
          "2019-12-06",
          "2019-12-07",
          "2019-12-08",
          "2019-12-09",
          "2019-12-10",
          "2019-12-11",
          "2019-12-12",
          "2019-12-13",
          "2019-12-14",
          "2019-12-15",
          "2019-12-16",
          "2019-12-17",
          "2019-12-18",
          "2019-12-19",
          "2019-12-21",
          "2019-12-21",
          "2019-12-22",
          "2019-12-23",
          "2019-12-24",
          "2019-12-25",
          "2019-12-26",
          "2019-12-27",
          "2019-12-28",
          "2019-12-29",
          "2019-12-30",
          "2019-12-31",
          "2020-01-02",
          "2020-01-02",
          "2020-01-03",
          "2020-01-04",
          "2020-01-05",
          "2020-01-06",
          "2020-01-07",
          "2020-01-09",
          "2020-01-09",
          "2020-01-10",
          "2020-01-11",
          "2020-01-12",
          "2020-01-13",
          "2020-01-14",
          "2020-01-15",
          "2020-01-16",
          "2020-01-17",
          "2020-01-18",
          "2020-01-19",
          "2020-01-20",
          "2020-01-21",
          "2020-01-22",
          "2020-01-23",
          "2020-01-24",
          "2020-01-25",
          "2020-01-26",
          "2020-01-27",
          "2020-01-28",
          "2020-01-29",
          "2020-01-30",
          "2020-01-31",
          "2020-02-01",
          "2020-02-02",
          "2020-02-03",
          "2020-02-04",
          "2020-02-05",
          "2020-02-06",
          "2020-02-07",
          "2020-02-08",
          "2020-02-09",
          "2020-02-10",
          "2020-02-11",
          "2020-02-12",
          "2020-02-13",
          "2020-02-14",
          "2020-02-15",
          "2020-02-16",
          "2020-02-17",
          "2020-02-18",
          "2020-02-19",
          "2020-02-20",
          "2020-02-21",
          "2020-02-22",
          "2020-02-24",
          "2020-02-24",
          "2020-02-25",
          "2020-02-26",
          "2020-02-27",
          "2020-02-28",
          "2020-02-29",
          "2020-03-01",
          "2020-03-02",
          "2020-03-03",
          "2020-03-04",
          "2020-03-05",
          "2020-03-06",
          "2020-03-07",
          "2020-03-08",
          "2020-03-09",
          "2020-03-10",
          "2020-03-11",
          "2020-03-12",
          "2020-03-13",
          "2020-03-14",
          "2020-03-15",
          "2020-03-16",
          "2020-03-17",
          "2020-03-18",
          "2020-03-19",
          "2020-03-20",
          "2020-03-21",
          "2020-03-22",
          "2020-03-23",
          "2020-03-24",
          "2020-03-25",
          "2020-03-26",
          "2020-03-27",
          "2020-03-28",
          "2020-03-29",
          "2020-03-30",
          "2020-03-31",
          "2020-04-01",
          "2020-04-02",
          "2020-04-03",
          "2020-04-04",
          "2020-04-05",
          "2020-04-06",
          "2020-04-07",
          "2020-04-08",
          "2020-04-09",
          "2020-04-10",
          "2020-04-11",
          "2020-04-12",
          "2020-04-13",
          "2020-04-14",
          "2020-04-15",
          "2020-04-16",
          "2020-04-18",
          "2020-04-18",
          "2020-04-19",
          "2020-04-20",
          "2020-04-21",
          "2020-04-22",
          "2020-04-23",
          "2020-04-24",
          "2020-04-25",
          "2020-04-26",
          "2020-04-27",
          "2020-04-28",
          "2020-04-29",
          "2020-04-30",
          "2020-05-01",
          "2020-05-02",
          "2020-05-03",
          "2020-05-04",
          "2020-05-05",
          "2020-05-06",
          "2020-05-07",
          "2020-05-08",
          "2020-05-09",
          "2020-05-10",
          "2020-05-12",
          "2020-05-12",
          "2020-05-13",
          "2020-05-14",
          "2020-05-15",
          "2020-05-16",
          "2020-05-17",
          "2020-05-18",
          "2020-05-19",
          "2020-05-20",
          "2020-05-21",
          "2020-05-22",
          "2020-05-23",
          "2020-05-24",
          "2020-05-25",
          "2020-05-26",
          "2020-05-27",
          "2020-05-28",
          "2020-05-29",
          "2020-05-30",
          "2020-05-31",
          "2020-06-01",
          "2020-06-02",
          "2020-06-03",
          "2020-06-04",
          "2020-06-05",
          "2020-06-06",
          "2020-06-07",
          "2020-06-08",
          "2020-06-09",
          "2020-06-10",
          "2020-06-11",
          "2020-06-12",
          "2020-06-12",
          "2020-06-15",
          "2020-06-16",
          "2020-06-17",
          "2020-06-18",
          "2020-06-19",
          "2020-06-20",
          "2020-06-21",
          "2020-06-22",
          "2020-06-23",
          "2020-06-24",
          "2020-06-25",
          "2020-06-26",
          "2020-06-27",
          "2020-06-28",
          "2020-06-29",
          "2020-06-30"
         ],
         "xaxis": "x",
         "y": [
          0.28,
          0,
          0,
          0,
          0,
          0,
          0,
          0,
          0,
          0.07,
          0,
          0.42,
          0.14,
          0,
          0,
          0.35,
          0.98,
          7.14,
          10.57,
          0,
          0.56,
          0,
          0.07,
          0,
          0.21,
          1.4,
          0.49,
          1.33,
          3.92,
          2.45,
          2.45,
          3.57,
          1.68,
          5.53,
          0.14,
          12.04,
          1.05,
          0.56,
          3.57,
          3.57,
          1.61,
          0.91,
          0,
          0,
          0.21,
          0,
          0.56,
          0.28,
          0,
          0.91,
          0,
          0,
          0,
          0,
          0,
          1.05,
          0.21,
          0,
          2.59,
          0.7,
          7.63,
          8.33,
          1.05,
          1.05,
          6.51,
          10.85,
          6.86,
          0,
          0.42,
          1.96,
          1.96,
          0,
          3.15,
          3.5,
          0.42,
          0.77,
          0.84,
          1.05,
          0.42,
          0.07,
          2.8,
          2.45,
          19.74,
          3.64,
          2.17,
          6.93,
          1.4,
          0.35,
          0.84,
          0,
          1.47,
          0.21,
          0.49,
          3.08,
          1.89,
          0,
          3.22,
          17.85,
          14.14,
          0,
          0,
          2.03,
          3.85,
          0.14,
          0.14,
          1.26,
          0.49,
          0.35,
          2.45,
          1.96,
          1.47,
          0.21,
          1.96,
          2.8,
          5.67,
          1.4,
          1.4,
          0,
          0,
          0.28,
          1.05,
          0.28,
          4.2,
          0.63,
          0.07,
          1.68,
          0.84,
          0,
          0.63,
          1.33,
          0.07,
          0,
          1.75,
          1.47,
          3.36,
          0.07,
          2.17,
          0.07,
          1.68,
          0.56,
          1.47,
          0.84,
          0,
          0,
          0.07,
          0.35,
          4.9,
          2.45,
          0.35,
          4.69,
          4.2,
          0.77,
          3.85,
          2.94,
          4.48,
          3.57,
          1.05,
          0.21,
          0,
          1.47,
          2.87,
          2.94,
          1.26,
          1.47,
          9.52,
          9.52,
          2.52,
          12.11,
          5.74,
          0,
          0,
          0,
          0,
          0,
          0,
          0,
          2.03,
          0.49,
          1.12,
          0.77,
          0.49,
          0.35,
          0,
          2.45,
          1.26,
          1.54,
          0,
          0,
          2.24,
          0.42,
          1.26,
          1.12,
          3.01,
          4.69,
          4.69,
          0.07,
          0.98,
          2.17,
          0.77,
          0.7,
          0.91,
          0.35,
          0,
          0,
          0,
          0.14,
          0,
          0,
          0,
          0,
          0,
          0,
          0,
          0,
          0,
          0,
          0,
          0,
          0,
          0,
          0,
          0.49,
          0,
          0,
          0,
          0,
          0,
          0,
          0,
          0,
          0,
          0,
          0,
          0,
          0,
          0,
          0,
          0,
          0,
          0,
          0,
          0,
          0
         ],
         "yaxis": "y"
        },
        {
         "name": "Danger Level",
         "type": "scatter",
         "x": [
          "2019-11-01",
          "2019-11-02",
          "2019-11-03",
          "2019-11-04",
          "2019-11-05",
          "2019-11-06",
          "2019-11-07",
          "2019-11-08",
          "2019-11-09",
          "2019-11-10",
          "2019-11-11",
          "2019-11-12",
          "2019-11-13",
          "2019-11-14",
          "2019-11-15",
          "2019-11-16",
          "2019-11-17",
          "2019-11-18",
          "2019-11-19",
          "2019-11-20",
          "2019-11-21",
          "2019-11-22",
          "2019-11-23",
          "2019-11-24",
          "2019-11-25",
          "2019-11-26",
          "2019-11-27",
          "2019-11-28",
          "2019-11-29",
          "2019-11-30",
          "2019-11-30",
          "2019-12-01",
          "2019-12-02",
          "2019-12-03",
          "2019-12-04",
          "2019-12-05",
          "2019-12-06",
          "2019-12-07",
          "2019-12-08",
          "2019-12-09",
          "2019-12-10",
          "2019-12-11",
          "2019-12-12",
          "2019-12-13",
          "2019-12-14",
          "2019-12-15",
          "2019-12-16",
          "2019-12-17",
          "2019-12-18",
          "2019-12-19",
          "2019-12-21",
          "2019-12-21",
          "2019-12-22",
          "2019-12-23",
          "2019-12-24",
          "2019-12-25",
          "2019-12-26",
          "2019-12-27",
          "2019-12-28",
          "2019-12-29",
          "2019-12-30",
          "2019-12-31",
          "2020-01-02",
          "2020-01-02",
          "2020-01-03",
          "2020-01-04",
          "2020-01-05",
          "2020-01-06",
          "2020-01-07",
          "2020-01-09",
          "2020-01-09",
          "2020-01-10",
          "2020-01-11",
          "2020-01-12",
          "2020-01-13",
          "2020-01-14",
          "2020-01-15",
          "2020-01-16",
          "2020-01-17",
          "2020-01-18",
          "2020-01-19",
          "2020-01-20",
          "2020-01-21",
          "2020-01-22",
          "2020-01-23",
          "2020-01-24",
          "2020-01-25",
          "2020-01-26",
          "2020-01-27",
          "2020-01-28",
          "2020-01-29",
          "2020-01-30",
          "2020-01-31",
          "2020-02-01",
          "2020-02-02",
          "2020-02-03",
          "2020-02-04",
          "2020-02-05",
          "2020-02-06",
          "2020-02-07",
          "2020-02-08",
          "2020-02-09",
          "2020-02-10",
          "2020-02-11",
          "2020-02-12",
          "2020-02-13",
          "2020-02-14",
          "2020-02-15",
          "2020-02-16",
          "2020-02-17",
          "2020-02-18",
          "2020-02-19",
          "2020-02-20",
          "2020-02-21",
          "2020-02-22",
          "2020-02-24",
          "2020-02-24",
          "2020-02-25",
          "2020-02-26",
          "2020-02-27",
          "2020-02-28",
          "2020-02-29",
          "2020-03-01",
          "2020-03-02",
          "2020-03-03",
          "2020-03-04",
          "2020-03-05",
          "2020-03-06",
          "2020-03-07",
          "2020-03-08",
          "2020-03-09",
          "2020-03-10",
          "2020-03-11",
          "2020-03-12",
          "2020-03-13",
          "2020-03-14",
          "2020-03-15",
          "2020-03-16",
          "2020-03-17",
          "2020-03-18",
          "2020-03-19",
          "2020-03-20",
          "2020-03-21",
          "2020-03-22",
          "2020-03-23",
          "2020-03-24",
          "2020-03-25",
          "2020-03-26",
          "2020-03-27",
          "2020-03-28",
          "2020-03-29",
          "2020-03-30",
          "2020-03-31",
          "2020-04-01",
          "2020-04-02",
          "2020-04-03",
          "2020-04-04",
          "2020-04-05",
          "2020-04-06",
          "2020-04-07",
          "2020-04-08",
          "2020-04-09",
          "2020-04-10",
          "2020-04-11",
          "2020-04-12",
          "2020-04-13",
          "2020-04-14",
          "2020-04-15",
          "2020-04-16",
          "2020-04-18",
          "2020-04-18",
          "2020-04-19",
          "2020-04-20",
          "2020-04-21",
          "2020-04-22",
          "2020-04-23",
          "2020-04-24",
          "2020-04-25",
          "2020-04-26",
          "2020-04-27",
          "2020-04-28",
          "2020-04-29",
          "2020-04-30",
          "2020-05-01",
          "2020-05-02",
          "2020-05-03",
          "2020-05-04",
          "2020-05-05",
          "2020-05-06",
          "2020-05-07",
          "2020-05-08",
          "2020-05-09",
          "2020-05-10",
          "2020-05-12",
          "2020-05-12",
          "2020-05-13",
          "2020-05-14",
          "2020-05-15",
          "2020-05-16",
          "2020-05-17",
          "2020-05-18",
          "2020-05-19",
          "2020-05-20",
          "2020-05-21",
          "2020-05-22",
          "2020-05-23",
          "2020-05-24",
          "2020-05-25",
          "2020-05-26",
          "2020-05-27",
          "2020-05-28",
          "2020-05-29",
          "2020-05-30",
          "2020-05-31",
          "2020-06-01",
          "2020-06-02",
          "2020-06-03",
          "2020-06-04",
          "2020-06-05",
          "2020-06-06",
          "2020-06-07",
          "2020-06-08",
          "2020-06-09",
          "2020-06-10",
          "2020-06-11",
          "2020-06-12",
          "2020-06-12",
          "2020-06-15",
          "2020-06-16",
          "2020-06-17",
          "2020-06-18",
          "2020-06-19",
          "2020-06-20",
          "2020-06-21",
          "2020-06-22",
          "2020-06-23",
          "2020-06-24",
          "2020-06-25",
          "2020-06-26",
          "2020-06-27",
          "2020-06-28",
          "2020-06-29",
          "2020-06-30"
         ],
         "xaxis": "x",
         "y": [
          0,
          0,
          0,
          0,
          0,
          0,
          0,
          0,
          0,
          0,
          0,
          0,
          0,
          0,
          0,
          0,
          0,
          0,
          0,
          0,
          0,
          0,
          0,
          0,
          0,
          0,
          0,
          0,
          0,
          0,
          3,
          3,
          4,
          3,
          3,
          3,
          2,
          2,
          2,
          3,
          2,
          2,
          2,
          2,
          1,
          1,
          1,
          1,
          2,
          2,
          1,
          1,
          1,
          1,
          1,
          1,
          1,
          3,
          3,
          3,
          3,
          2,
          2,
          3,
          3,
          3,
          3,
          2,
          3,
          3,
          2,
          3,
          3,
          2,
          2,
          2,
          2,
          1,
          2,
          3,
          3,
          3,
          3,
          3,
          3,
          3,
          2,
          2,
          1,
          1,
          1,
          1,
          2,
          3,
          3,
          3,
          4,
          4,
          3,
          2,
          2,
          2,
          2,
          2,
          3,
          3,
          3,
          2,
          2,
          2,
          2,
          2,
          2,
          3,
          3,
          3,
          2,
          2,
          1,
          2,
          2,
          2,
          2,
          2,
          1,
          1,
          2,
          2,
          2,
          2,
          1,
          1,
          2,
          2,
          2,
          2,
          2,
          2,
          2,
          2,
          2,
          2,
          2,
          2,
          2,
          2,
          2,
          2,
          2,
          3,
          3,
          3,
          3,
          3,
          3,
          3,
          3,
          3,
          2,
          2,
          2,
          2,
          2,
          3,
          3,
          3,
          4,
          3,
          2,
          3,
          3,
          3,
          2,
          2,
          2,
          1,
          1,
          1,
          1,
          1,
          1,
          2,
          2,
          2,
          2,
          2,
          2,
          2,
          2,
          2,
          2,
          2,
          3,
          3,
          3,
          3,
          3,
          3,
          3,
          2,
          3,
          4,
          3,
          3,
          2,
          2,
          2,
          2,
          2,
          2,
          2,
          3,
          3,
          3,
          2,
          2,
          2,
          2,
          2,
          2,
          2,
          1,
          1,
          1,
          2,
          2,
          2,
          0,
          0,
          0,
          0,
          0,
          0,
          0,
          0,
          0,
          0,
          0,
          0,
          0,
          0,
          0,
          0
         ],
         "yaxis": "y2"
        }
       ],
       "layout": {
        "template": {
         "data": {
          "bar": [
           {
            "error_x": {
             "color": "#2a3f5f"
            },
            "error_y": {
             "color": "#2a3f5f"
            },
            "marker": {
             "line": {
              "color": "#E5ECF6",
              "width": 0.5
             },
             "pattern": {
              "fillmode": "overlay",
              "size": 10,
              "solidity": 0.2
             }
            },
            "type": "bar"
           }
          ],
          "barpolar": [
           {
            "marker": {
             "line": {
              "color": "#E5ECF6",
              "width": 0.5
             },
             "pattern": {
              "fillmode": "overlay",
              "size": 10,
              "solidity": 0.2
             }
            },
            "type": "barpolar"
           }
          ],
          "carpet": [
           {
            "aaxis": {
             "endlinecolor": "#2a3f5f",
             "gridcolor": "white",
             "linecolor": "white",
             "minorgridcolor": "white",
             "startlinecolor": "#2a3f5f"
            },
            "baxis": {
             "endlinecolor": "#2a3f5f",
             "gridcolor": "white",
             "linecolor": "white",
             "minorgridcolor": "white",
             "startlinecolor": "#2a3f5f"
            },
            "type": "carpet"
           }
          ],
          "choropleth": [
           {
            "colorbar": {
             "outlinewidth": 0,
             "ticks": ""
            },
            "type": "choropleth"
           }
          ],
          "contour": [
           {
            "colorbar": {
             "outlinewidth": 0,
             "ticks": ""
            },
            "colorscale": [
             [
              0,
              "#0d0887"
             ],
             [
              0.1111111111111111,
              "#46039f"
             ],
             [
              0.2222222222222222,
              "#7201a8"
             ],
             [
              0.3333333333333333,
              "#9c179e"
             ],
             [
              0.4444444444444444,
              "#bd3786"
             ],
             [
              0.5555555555555556,
              "#d8576b"
             ],
             [
              0.6666666666666666,
              "#ed7953"
             ],
             [
              0.7777777777777778,
              "#fb9f3a"
             ],
             [
              0.8888888888888888,
              "#fdca26"
             ],
             [
              1,
              "#f0f921"
             ]
            ],
            "type": "contour"
           }
          ],
          "contourcarpet": [
           {
            "colorbar": {
             "outlinewidth": 0,
             "ticks": ""
            },
            "type": "contourcarpet"
           }
          ],
          "heatmap": [
           {
            "colorbar": {
             "outlinewidth": 0,
             "ticks": ""
            },
            "colorscale": [
             [
              0,
              "#0d0887"
             ],
             [
              0.1111111111111111,
              "#46039f"
             ],
             [
              0.2222222222222222,
              "#7201a8"
             ],
             [
              0.3333333333333333,
              "#9c179e"
             ],
             [
              0.4444444444444444,
              "#bd3786"
             ],
             [
              0.5555555555555556,
              "#d8576b"
             ],
             [
              0.6666666666666666,
              "#ed7953"
             ],
             [
              0.7777777777777778,
              "#fb9f3a"
             ],
             [
              0.8888888888888888,
              "#fdca26"
             ],
             [
              1,
              "#f0f921"
             ]
            ],
            "type": "heatmap"
           }
          ],
          "heatmapgl": [
           {
            "colorbar": {
             "outlinewidth": 0,
             "ticks": ""
            },
            "colorscale": [
             [
              0,
              "#0d0887"
             ],
             [
              0.1111111111111111,
              "#46039f"
             ],
             [
              0.2222222222222222,
              "#7201a8"
             ],
             [
              0.3333333333333333,
              "#9c179e"
             ],
             [
              0.4444444444444444,
              "#bd3786"
             ],
             [
              0.5555555555555556,
              "#d8576b"
             ],
             [
              0.6666666666666666,
              "#ed7953"
             ],
             [
              0.7777777777777778,
              "#fb9f3a"
             ],
             [
              0.8888888888888888,
              "#fdca26"
             ],
             [
              1,
              "#f0f921"
             ]
            ],
            "type": "heatmapgl"
           }
          ],
          "histogram": [
           {
            "marker": {
             "pattern": {
              "fillmode": "overlay",
              "size": 10,
              "solidity": 0.2
             }
            },
            "type": "histogram"
           }
          ],
          "histogram2d": [
           {
            "colorbar": {
             "outlinewidth": 0,
             "ticks": ""
            },
            "colorscale": [
             [
              0,
              "#0d0887"
             ],
             [
              0.1111111111111111,
              "#46039f"
             ],
             [
              0.2222222222222222,
              "#7201a8"
             ],
             [
              0.3333333333333333,
              "#9c179e"
             ],
             [
              0.4444444444444444,
              "#bd3786"
             ],
             [
              0.5555555555555556,
              "#d8576b"
             ],
             [
              0.6666666666666666,
              "#ed7953"
             ],
             [
              0.7777777777777778,
              "#fb9f3a"
             ],
             [
              0.8888888888888888,
              "#fdca26"
             ],
             [
              1,
              "#f0f921"
             ]
            ],
            "type": "histogram2d"
           }
          ],
          "histogram2dcontour": [
           {
            "colorbar": {
             "outlinewidth": 0,
             "ticks": ""
            },
            "colorscale": [
             [
              0,
              "#0d0887"
             ],
             [
              0.1111111111111111,
              "#46039f"
             ],
             [
              0.2222222222222222,
              "#7201a8"
             ],
             [
              0.3333333333333333,
              "#9c179e"
             ],
             [
              0.4444444444444444,
              "#bd3786"
             ],
             [
              0.5555555555555556,
              "#d8576b"
             ],
             [
              0.6666666666666666,
              "#ed7953"
             ],
             [
              0.7777777777777778,
              "#fb9f3a"
             ],
             [
              0.8888888888888888,
              "#fdca26"
             ],
             [
              1,
              "#f0f921"
             ]
            ],
            "type": "histogram2dcontour"
           }
          ],
          "mesh3d": [
           {
            "colorbar": {
             "outlinewidth": 0,
             "ticks": ""
            },
            "type": "mesh3d"
           }
          ],
          "parcoords": [
           {
            "line": {
             "colorbar": {
              "outlinewidth": 0,
              "ticks": ""
             }
            },
            "type": "parcoords"
           }
          ],
          "pie": [
           {
            "automargin": true,
            "type": "pie"
           }
          ],
          "scatter": [
           {
            "fillpattern": {
             "fillmode": "overlay",
             "size": 10,
             "solidity": 0.2
            },
            "type": "scatter"
           }
          ],
          "scatter3d": [
           {
            "line": {
             "colorbar": {
              "outlinewidth": 0,
              "ticks": ""
             }
            },
            "marker": {
             "colorbar": {
              "outlinewidth": 0,
              "ticks": ""
             }
            },
            "type": "scatter3d"
           }
          ],
          "scattercarpet": [
           {
            "marker": {
             "colorbar": {
              "outlinewidth": 0,
              "ticks": ""
             }
            },
            "type": "scattercarpet"
           }
          ],
          "scattergeo": [
           {
            "marker": {
             "colorbar": {
              "outlinewidth": 0,
              "ticks": ""
             }
            },
            "type": "scattergeo"
           }
          ],
          "scattergl": [
           {
            "marker": {
             "colorbar": {
              "outlinewidth": 0,
              "ticks": ""
             }
            },
            "type": "scattergl"
           }
          ],
          "scattermapbox": [
           {
            "marker": {
             "colorbar": {
              "outlinewidth": 0,
              "ticks": ""
             }
            },
            "type": "scattermapbox"
           }
          ],
          "scatterpolar": [
           {
            "marker": {
             "colorbar": {
              "outlinewidth": 0,
              "ticks": ""
             }
            },
            "type": "scatterpolar"
           }
          ],
          "scatterpolargl": [
           {
            "marker": {
             "colorbar": {
              "outlinewidth": 0,
              "ticks": ""
             }
            },
            "type": "scatterpolargl"
           }
          ],
          "scatterternary": [
           {
            "marker": {
             "colorbar": {
              "outlinewidth": 0,
              "ticks": ""
             }
            },
            "type": "scatterternary"
           }
          ],
          "surface": [
           {
            "colorbar": {
             "outlinewidth": 0,
             "ticks": ""
            },
            "colorscale": [
             [
              0,
              "#0d0887"
             ],
             [
              0.1111111111111111,
              "#46039f"
             ],
             [
              0.2222222222222222,
              "#7201a8"
             ],
             [
              0.3333333333333333,
              "#9c179e"
             ],
             [
              0.4444444444444444,
              "#bd3786"
             ],
             [
              0.5555555555555556,
              "#d8576b"
             ],
             [
              0.6666666666666666,
              "#ed7953"
             ],
             [
              0.7777777777777778,
              "#fb9f3a"
             ],
             [
              0.8888888888888888,
              "#fdca26"
             ],
             [
              1,
              "#f0f921"
             ]
            ],
            "type": "surface"
           }
          ],
          "table": [
           {
            "cells": {
             "fill": {
              "color": "#EBF0F8"
             },
             "line": {
              "color": "white"
             }
            },
            "header": {
             "fill": {
              "color": "#C8D4E3"
             },
             "line": {
              "color": "white"
             }
            },
            "type": "table"
           }
          ]
         },
         "layout": {
          "annotationdefaults": {
           "arrowcolor": "#2a3f5f",
           "arrowhead": 0,
           "arrowwidth": 1
          },
          "autotypenumbers": "strict",
          "coloraxis": {
           "colorbar": {
            "outlinewidth": 0,
            "ticks": ""
           }
          },
          "colorscale": {
           "diverging": [
            [
             0,
             "#8e0152"
            ],
            [
             0.1,
             "#c51b7d"
            ],
            [
             0.2,
             "#de77ae"
            ],
            [
             0.3,
             "#f1b6da"
            ],
            [
             0.4,
             "#fde0ef"
            ],
            [
             0.5,
             "#f7f7f7"
            ],
            [
             0.6,
             "#e6f5d0"
            ],
            [
             0.7,
             "#b8e186"
            ],
            [
             0.8,
             "#7fbc41"
            ],
            [
             0.9,
             "#4d9221"
            ],
            [
             1,
             "#276419"
            ]
           ],
           "sequential": [
            [
             0,
             "#0d0887"
            ],
            [
             0.1111111111111111,
             "#46039f"
            ],
            [
             0.2222222222222222,
             "#7201a8"
            ],
            [
             0.3333333333333333,
             "#9c179e"
            ],
            [
             0.4444444444444444,
             "#bd3786"
            ],
            [
             0.5555555555555556,
             "#d8576b"
            ],
            [
             0.6666666666666666,
             "#ed7953"
            ],
            [
             0.7777777777777778,
             "#fb9f3a"
            ],
            [
             0.8888888888888888,
             "#fdca26"
            ],
            [
             1,
             "#f0f921"
            ]
           ],
           "sequentialminus": [
            [
             0,
             "#0d0887"
            ],
            [
             0.1111111111111111,
             "#46039f"
            ],
            [
             0.2222222222222222,
             "#7201a8"
            ],
            [
             0.3333333333333333,
             "#9c179e"
            ],
            [
             0.4444444444444444,
             "#bd3786"
            ],
            [
             0.5555555555555556,
             "#d8576b"
            ],
            [
             0.6666666666666666,
             "#ed7953"
            ],
            [
             0.7777777777777778,
             "#fb9f3a"
            ],
            [
             0.8888888888888888,
             "#fdca26"
            ],
            [
             1,
             "#f0f921"
            ]
           ]
          },
          "colorway": [
           "#636efa",
           "#EF553B",
           "#00cc96",
           "#ab63fa",
           "#FFA15A",
           "#19d3f3",
           "#FF6692",
           "#B6E880",
           "#FF97FF",
           "#FECB52"
          ],
          "font": {
           "color": "#2a3f5f"
          },
          "geo": {
           "bgcolor": "white",
           "lakecolor": "white",
           "landcolor": "#E5ECF6",
           "showlakes": true,
           "showland": true,
           "subunitcolor": "white"
          },
          "hoverlabel": {
           "align": "left"
          },
          "hovermode": "closest",
          "mapbox": {
           "style": "light"
          },
          "paper_bgcolor": "white",
          "plot_bgcolor": "#E5ECF6",
          "polar": {
           "angularaxis": {
            "gridcolor": "white",
            "linecolor": "white",
            "ticks": ""
           },
           "bgcolor": "#E5ECF6",
           "radialaxis": {
            "gridcolor": "white",
            "linecolor": "white",
            "ticks": ""
           }
          },
          "scene": {
           "xaxis": {
            "backgroundcolor": "#E5ECF6",
            "gridcolor": "white",
            "gridwidth": 2,
            "linecolor": "white",
            "showbackground": true,
            "ticks": "",
            "zerolinecolor": "white"
           },
           "yaxis": {
            "backgroundcolor": "#E5ECF6",
            "gridcolor": "white",
            "gridwidth": 2,
            "linecolor": "white",
            "showbackground": true,
            "ticks": "",
            "zerolinecolor": "white"
           },
           "zaxis": {
            "backgroundcolor": "#E5ECF6",
            "gridcolor": "white",
            "gridwidth": 2,
            "linecolor": "white",
            "showbackground": true,
            "ticks": "",
            "zerolinecolor": "white"
           }
          },
          "shapedefaults": {
           "line": {
            "color": "#2a3f5f"
           }
          },
          "ternary": {
           "aaxis": {
            "gridcolor": "white",
            "linecolor": "white",
            "ticks": ""
           },
           "baxis": {
            "gridcolor": "white",
            "linecolor": "white",
            "ticks": ""
           },
           "bgcolor": "#E5ECF6",
           "caxis": {
            "gridcolor": "white",
            "linecolor": "white",
            "ticks": ""
           }
          },
          "title": {
           "x": 0.05
          },
          "xaxis": {
           "automargin": true,
           "gridcolor": "white",
           "linecolor": "white",
           "ticks": "",
           "title": {
            "standoff": 15
           },
           "zerolinecolor": "white",
           "zerolinewidth": 2
          },
          "yaxis": {
           "automargin": true,
           "gridcolor": "white",
           "linecolor": "white",
           "ticks": "",
           "title": {
            "standoff": 15
           },
           "zerolinecolor": "white",
           "zerolinewidth": 2
          }
         }
        },
        "title": {
         "text": "Snowfall and Danger Level (Nov 2019 - Jun 2020)"
        },
        "xaxis": {
         "anchor": "y",
         "domain": [
          0,
          0.94
         ],
         "title": {
          "text": "Time"
         }
        },
        "yaxis": {
         "anchor": "x",
         "domain": [
          0,
          1
         ],
         "title": {
          "text": "Snowfall Sum (mm)"
         }
        },
        "yaxis2": {
         "anchor": "x",
         "overlaying": "y",
         "side": "right",
         "title": {
          "text": "Danger Level"
         }
        }
       }
      }
     },
     "metadata": {},
     "output_type": "display_data"
    }
   ],
   "source": [
    "import plotly.graph_objects as go\n",
    "from plotly.subplots import make_subplots\n",
    "\n",
    "# Filter the dataframe for the desired time period\n",
    "start_date = pd.to_datetime('2019-11-01')\n",
    "end_date = pd.to_datetime('2020-06-30')\n",
    "filtered_df = df_trollheimen[(df_trollheimen['time'] >= start_date) & (df_trollheimen['time'] <= end_date)]\n",
    "\n",
    "# Create subplots with two y-axes\n",
    "fig = make_subplots(specs=[[{\"secondary_y\": True}]])\n",
    "\n",
    "# Add traces for snowfall_sum and DangerLevel\n",
    "fig.add_trace(go.Scatter(x=filtered_df['time'], y=filtered_df['snowfall_sum'], name='Snowfall Sum'),\n",
    "              secondary_y=False)\n",
    "fig.add_trace(go.Scatter(x=filtered_df['time'], y=filtered_df['DangerLevel'], name='Danger Level'),\n",
    "              secondary_y=True)\n",
    "\n",
    "# Set x-axis label\n",
    "fig.update_xaxes(title_text='Time')\n",
    "\n",
    "# Set y-axis labels\n",
    "fig.update_yaxes(title_text='Snowfall Sum (mm)', secondary_y=False)\n",
    "fig.update_yaxes(title_text='Danger Level', secondary_y=True)\n",
    "\n",
    "# Set chart title\n",
    "fig.update_layout(title='Snowfall and Danger Level (Nov 2019 - Jun 2020)')\n",
    "\n",
    "# Show the plot\n",
    "fig.show()\n"
   ]
  },
  {
   "cell_type": "markdown",
   "metadata": {},
   "source": [
    "This shows some interesting correlations where the spikes in danger levels occurs sometims when snowfall is high in the region. Now take a look at temperature aswell"
   ]
  },
  {
   "cell_type": "code",
   "execution_count": 78,
   "metadata": {},
   "outputs": [
    {
     "name": "stderr",
     "output_type": "stream",
     "text": [
      "/tmp/ipykernel_40762/3543877182.py:7: FutureWarning:\n",
      "\n",
      "Comparison of Timestamp with datetime.date is deprecated in order to match the standard library behavior. In a future version these will be considered non-comparable. Use 'ts == pd.Timestamp(date)' or 'ts.date() == date' instead.\n",
      "\n"
     ]
    },
    {
     "data": {
      "application/vnd.plotly.v1+json": {
       "config": {
        "plotlyServerURL": "https://plot.ly"
       },
       "data": [
        {
         "name": "Temperature mean",
         "type": "scatter",
         "x": [
          "2019-11-01",
          "2019-11-02",
          "2019-11-03",
          "2019-11-04",
          "2019-11-05",
          "2019-11-06",
          "2019-11-07",
          "2019-11-08",
          "2019-11-09",
          "2019-11-10",
          "2019-11-11",
          "2019-11-12",
          "2019-11-13",
          "2019-11-14",
          "2019-11-15",
          "2019-11-16",
          "2019-11-17",
          "2019-11-18",
          "2019-11-19",
          "2019-11-20",
          "2019-11-21",
          "2019-11-22",
          "2019-11-23",
          "2019-11-24",
          "2019-11-25",
          "2019-11-26",
          "2019-11-27",
          "2019-11-28",
          "2019-11-29",
          "2019-11-30",
          "2019-11-30",
          "2019-12-01",
          "2019-12-02",
          "2019-12-03",
          "2019-12-04",
          "2019-12-05",
          "2019-12-06",
          "2019-12-07",
          "2019-12-08",
          "2019-12-09",
          "2019-12-10",
          "2019-12-11",
          "2019-12-12",
          "2019-12-13",
          "2019-12-14",
          "2019-12-15",
          "2019-12-16",
          "2019-12-17",
          "2019-12-18",
          "2019-12-19",
          "2019-12-21",
          "2019-12-21",
          "2019-12-22",
          "2019-12-23",
          "2019-12-24",
          "2019-12-25",
          "2019-12-26",
          "2019-12-27",
          "2019-12-28",
          "2019-12-29",
          "2019-12-30",
          "2019-12-31",
          "2020-01-02",
          "2020-01-02",
          "2020-01-03",
          "2020-01-04",
          "2020-01-05",
          "2020-01-06",
          "2020-01-07",
          "2020-01-09",
          "2020-01-09",
          "2020-01-10",
          "2020-01-11",
          "2020-01-12",
          "2020-01-13",
          "2020-01-14",
          "2020-01-15",
          "2020-01-16",
          "2020-01-17",
          "2020-01-18",
          "2020-01-19",
          "2020-01-20",
          "2020-01-21",
          "2020-01-22",
          "2020-01-23",
          "2020-01-24",
          "2020-01-25",
          "2020-01-26",
          "2020-01-27",
          "2020-01-28",
          "2020-01-29",
          "2020-01-30",
          "2020-01-31",
          "2020-02-01",
          "2020-02-02",
          "2020-02-03",
          "2020-02-04",
          "2020-02-05",
          "2020-02-06",
          "2020-02-07",
          "2020-02-08",
          "2020-02-09",
          "2020-02-10",
          "2020-02-11",
          "2020-02-12",
          "2020-02-13",
          "2020-02-14",
          "2020-02-15",
          "2020-02-16",
          "2020-02-17",
          "2020-02-18",
          "2020-02-19",
          "2020-02-20",
          "2020-02-21",
          "2020-02-22",
          "2020-02-24",
          "2020-02-24",
          "2020-02-25",
          "2020-02-26",
          "2020-02-27",
          "2020-02-28",
          "2020-02-29",
          "2020-03-01",
          "2020-03-02",
          "2020-03-03",
          "2020-03-04",
          "2020-03-05",
          "2020-03-06",
          "2020-03-07",
          "2020-03-08",
          "2020-03-09",
          "2020-03-10",
          "2020-03-11",
          "2020-03-12",
          "2020-03-13",
          "2020-03-14",
          "2020-03-15",
          "2020-03-16",
          "2020-03-17",
          "2020-03-18",
          "2020-03-19",
          "2020-03-20",
          "2020-03-21",
          "2020-03-22",
          "2020-03-23",
          "2020-03-24",
          "2020-03-25",
          "2020-03-26",
          "2020-03-27",
          "2020-03-28",
          "2020-03-29",
          "2020-03-30",
          "2020-03-31",
          "2020-04-01",
          "2020-04-02",
          "2020-04-03",
          "2020-04-04",
          "2020-04-05",
          "2020-04-06",
          "2020-04-07",
          "2020-04-08",
          "2020-04-09",
          "2020-04-10",
          "2020-04-11",
          "2020-04-12",
          "2020-04-13",
          "2020-04-14",
          "2020-04-15",
          "2020-04-16",
          "2020-04-18",
          "2020-04-18",
          "2020-04-19",
          "2020-04-20",
          "2020-04-21",
          "2020-04-22",
          "2020-04-23",
          "2020-04-24",
          "2020-04-25",
          "2020-04-26",
          "2020-04-27",
          "2020-04-28",
          "2020-04-29",
          "2020-04-30",
          "2020-05-01",
          "2020-05-02",
          "2020-05-03",
          "2020-05-04",
          "2020-05-05",
          "2020-05-06",
          "2020-05-07",
          "2020-05-08",
          "2020-05-09",
          "2020-05-10",
          "2020-05-12",
          "2020-05-12",
          "2020-05-13",
          "2020-05-14",
          "2020-05-15",
          "2020-05-16",
          "2020-05-17",
          "2020-05-18",
          "2020-05-19",
          "2020-05-20",
          "2020-05-21",
          "2020-05-22",
          "2020-05-23",
          "2020-05-24",
          "2020-05-25",
          "2020-05-26",
          "2020-05-27",
          "2020-05-28",
          "2020-05-29",
          "2020-05-30",
          "2020-05-31",
          "2020-06-01",
          "2020-06-02",
          "2020-06-03",
          "2020-06-04",
          "2020-06-05",
          "2020-06-06",
          "2020-06-07",
          "2020-06-08",
          "2020-06-09",
          "2020-06-10",
          "2020-06-11",
          "2020-06-12",
          "2020-06-12",
          "2020-06-15",
          "2020-06-16",
          "2020-06-17",
          "2020-06-18",
          "2020-06-19",
          "2020-06-20",
          "2020-06-21",
          "2020-06-22",
          "2020-06-23",
          "2020-06-24",
          "2020-06-25",
          "2020-06-26",
          "2020-06-27",
          "2020-06-28",
          "2020-06-29",
          "2020-06-30"
         ],
         "xaxis": "x",
         "y": [
          -4.8,
          -6.7,
          -8.7,
          -14.1,
          -12.5,
          -10.7,
          -14.9,
          -17.5,
          -20.3,
          -18,
          -17.4,
          -13.6,
          -10.1,
          -12.2,
          -15.8,
          -12.2,
          -6.3,
          -7.9,
          -3.5,
          -12.6,
          -9.6,
          -7.2,
          -6.1,
          -7.4,
          -5,
          -3.5,
          -6.5,
          -6.5,
          -7.2,
          -7.6,
          -7.6,
          -7.1,
          -7.2,
          -1.6,
          -0.8,
          -5,
          -7.1,
          -7.8,
          -8.9,
          -6.8,
          -8.7,
          -6.8,
          -8.2,
          -9.9,
          -8.4,
          -9.1,
          -10,
          -11.3,
          -10.2,
          -12.1,
          -3.8,
          -3.8,
          -5.4,
          -13.2,
          -11.9,
          -5.2,
          -4.9,
          -10.2,
          -7.2,
          -1.3,
          -0.3,
          -3.2,
          -2.1,
          -2.1,
          -5.4,
          -6,
          -5.3,
          -3.4,
          -4.5,
          -6.4,
          -6.4,
          -10.9,
          -7.2,
          -7.2,
          -10.4,
          -7.7,
          -8.9,
          -8.5,
          -6.7,
          -6.7,
          -4.9,
          1.2,
          -2.7,
          -4.7,
          -0.8,
          -3.7,
          -3.8,
          -2.1,
          -5.4,
          -8.1,
          -7.1,
          -8.9,
          -9.9,
          -6.6,
          -5.7,
          -9,
          -10.4,
          -3.6,
          -0.7,
          -1.5,
          -6.2,
          -4.2,
          -4.4,
          -7.7,
          -7.8,
          -7.2,
          -9,
          -9,
          -2.9,
          -6.1,
          -4.5,
          -4.8,
          -6.3,
          -5.6,
          -6,
          -6.7,
          -6.7,
          -10,
          -15,
          -17,
          -12.4,
          -10.5,
          -9.6,
          -8.1,
          -8.1,
          -6.8,
          -5.2,
          -8,
          -9.4,
          -4.1,
          -3.9,
          -5.8,
          -3.8,
          -5.4,
          -9.3,
          -11,
          -7,
          -7.1,
          -5.3,
          -5.2,
          -5.3,
          -7.2,
          -7,
          -7.8,
          -6.5,
          -4.3,
          -2.4,
          -1.4,
          -2.8,
          -7.2,
          -6.9,
          -6.7,
          -2.9,
          -2.5,
          -5.7,
          -7.6,
          -7.9,
          -5.7,
          -3,
          -1,
          -3,
          -4.6,
          -4,
          -2,
          -2.6,
          -6.7,
          -2.7,
          -1.3,
          -4.3,
          -2.7,
          -2.7,
          -0.3,
          1.9,
          2.7,
          2.6,
          0.2,
          -1.7,
          -1.6,
          -1.8,
          -2.2,
          -1.4,
          -0.9,
          -2.4,
          -1.1,
          -0.8,
          -2.1,
          -3.3,
          -1.7,
          -0.9,
          -1.8,
          -1.5,
          -2,
          -5.2,
          -4.9,
          -4.9,
          -5.4,
          -5.4,
          -4.3,
          -4.1,
          -2.8,
          -2.9,
          -2.6,
          -1.2,
          1.5,
          2.4,
          3,
          1.9,
          3.8,
          3.5,
          0.9,
          1.1,
          3,
          6.2,
          7.2,
          6.6,
          5,
          3.3,
          5.9,
          5.8,
          5.5,
          2.1,
          0.9,
          4.4,
          8.7,
          9.1,
          13,
          13,
          12.7,
          15,
          15.6,
          14,
          16.4,
          15.9,
          14.4,
          11.6,
          11.5,
          14.8,
          16,
          16.1,
          17.7,
          13.6,
          10.9,
          6.5
         ],
         "yaxis": "y"
        },
        {
         "name": "Danger Level",
         "type": "scatter",
         "x": [
          "2019-11-01",
          "2019-11-02",
          "2019-11-03",
          "2019-11-04",
          "2019-11-05",
          "2019-11-06",
          "2019-11-07",
          "2019-11-08",
          "2019-11-09",
          "2019-11-10",
          "2019-11-11",
          "2019-11-12",
          "2019-11-13",
          "2019-11-14",
          "2019-11-15",
          "2019-11-16",
          "2019-11-17",
          "2019-11-18",
          "2019-11-19",
          "2019-11-20",
          "2019-11-21",
          "2019-11-22",
          "2019-11-23",
          "2019-11-24",
          "2019-11-25",
          "2019-11-26",
          "2019-11-27",
          "2019-11-28",
          "2019-11-29",
          "2019-11-30",
          "2019-11-30",
          "2019-12-01",
          "2019-12-02",
          "2019-12-03",
          "2019-12-04",
          "2019-12-05",
          "2019-12-06",
          "2019-12-07",
          "2019-12-08",
          "2019-12-09",
          "2019-12-10",
          "2019-12-11",
          "2019-12-12",
          "2019-12-13",
          "2019-12-14",
          "2019-12-15",
          "2019-12-16",
          "2019-12-17",
          "2019-12-18",
          "2019-12-19",
          "2019-12-21",
          "2019-12-21",
          "2019-12-22",
          "2019-12-23",
          "2019-12-24",
          "2019-12-25",
          "2019-12-26",
          "2019-12-27",
          "2019-12-28",
          "2019-12-29",
          "2019-12-30",
          "2019-12-31",
          "2020-01-02",
          "2020-01-02",
          "2020-01-03",
          "2020-01-04",
          "2020-01-05",
          "2020-01-06",
          "2020-01-07",
          "2020-01-09",
          "2020-01-09",
          "2020-01-10",
          "2020-01-11",
          "2020-01-12",
          "2020-01-13",
          "2020-01-14",
          "2020-01-15",
          "2020-01-16",
          "2020-01-17",
          "2020-01-18",
          "2020-01-19",
          "2020-01-20",
          "2020-01-21",
          "2020-01-22",
          "2020-01-23",
          "2020-01-24",
          "2020-01-25",
          "2020-01-26",
          "2020-01-27",
          "2020-01-28",
          "2020-01-29",
          "2020-01-30",
          "2020-01-31",
          "2020-02-01",
          "2020-02-02",
          "2020-02-03",
          "2020-02-04",
          "2020-02-05",
          "2020-02-06",
          "2020-02-07",
          "2020-02-08",
          "2020-02-09",
          "2020-02-10",
          "2020-02-11",
          "2020-02-12",
          "2020-02-13",
          "2020-02-14",
          "2020-02-15",
          "2020-02-16",
          "2020-02-17",
          "2020-02-18",
          "2020-02-19",
          "2020-02-20",
          "2020-02-21",
          "2020-02-22",
          "2020-02-24",
          "2020-02-24",
          "2020-02-25",
          "2020-02-26",
          "2020-02-27",
          "2020-02-28",
          "2020-02-29",
          "2020-03-01",
          "2020-03-02",
          "2020-03-03",
          "2020-03-04",
          "2020-03-05",
          "2020-03-06",
          "2020-03-07",
          "2020-03-08",
          "2020-03-09",
          "2020-03-10",
          "2020-03-11",
          "2020-03-12",
          "2020-03-13",
          "2020-03-14",
          "2020-03-15",
          "2020-03-16",
          "2020-03-17",
          "2020-03-18",
          "2020-03-19",
          "2020-03-20",
          "2020-03-21",
          "2020-03-22",
          "2020-03-23",
          "2020-03-24",
          "2020-03-25",
          "2020-03-26",
          "2020-03-27",
          "2020-03-28",
          "2020-03-29",
          "2020-03-30",
          "2020-03-31",
          "2020-04-01",
          "2020-04-02",
          "2020-04-03",
          "2020-04-04",
          "2020-04-05",
          "2020-04-06",
          "2020-04-07",
          "2020-04-08",
          "2020-04-09",
          "2020-04-10",
          "2020-04-11",
          "2020-04-12",
          "2020-04-13",
          "2020-04-14",
          "2020-04-15",
          "2020-04-16",
          "2020-04-18",
          "2020-04-18",
          "2020-04-19",
          "2020-04-20",
          "2020-04-21",
          "2020-04-22",
          "2020-04-23",
          "2020-04-24",
          "2020-04-25",
          "2020-04-26",
          "2020-04-27",
          "2020-04-28",
          "2020-04-29",
          "2020-04-30",
          "2020-05-01",
          "2020-05-02",
          "2020-05-03",
          "2020-05-04",
          "2020-05-05",
          "2020-05-06",
          "2020-05-07",
          "2020-05-08",
          "2020-05-09",
          "2020-05-10",
          "2020-05-12",
          "2020-05-12",
          "2020-05-13",
          "2020-05-14",
          "2020-05-15",
          "2020-05-16",
          "2020-05-17",
          "2020-05-18",
          "2020-05-19",
          "2020-05-20",
          "2020-05-21",
          "2020-05-22",
          "2020-05-23",
          "2020-05-24",
          "2020-05-25",
          "2020-05-26",
          "2020-05-27",
          "2020-05-28",
          "2020-05-29",
          "2020-05-30",
          "2020-05-31",
          "2020-06-01",
          "2020-06-02",
          "2020-06-03",
          "2020-06-04",
          "2020-06-05",
          "2020-06-06",
          "2020-06-07",
          "2020-06-08",
          "2020-06-09",
          "2020-06-10",
          "2020-06-11",
          "2020-06-12",
          "2020-06-12",
          "2020-06-15",
          "2020-06-16",
          "2020-06-17",
          "2020-06-18",
          "2020-06-19",
          "2020-06-20",
          "2020-06-21",
          "2020-06-22",
          "2020-06-23",
          "2020-06-24",
          "2020-06-25",
          "2020-06-26",
          "2020-06-27",
          "2020-06-28",
          "2020-06-29",
          "2020-06-30"
         ],
         "xaxis": "x",
         "y": [
          0,
          0,
          0,
          0,
          0,
          0,
          0,
          0,
          0,
          0,
          0,
          0,
          0,
          0,
          0,
          0,
          0,
          0,
          0,
          0,
          0,
          0,
          0,
          0,
          0,
          0,
          0,
          0,
          0,
          0,
          3,
          3,
          4,
          3,
          3,
          3,
          2,
          2,
          2,
          3,
          2,
          2,
          2,
          2,
          1,
          1,
          1,
          1,
          2,
          2,
          1,
          1,
          1,
          1,
          1,
          1,
          1,
          3,
          3,
          3,
          3,
          2,
          2,
          3,
          3,
          3,
          3,
          2,
          3,
          3,
          2,
          3,
          3,
          2,
          2,
          2,
          2,
          1,
          2,
          3,
          3,
          3,
          3,
          3,
          3,
          3,
          2,
          2,
          1,
          1,
          1,
          1,
          2,
          3,
          3,
          3,
          4,
          4,
          3,
          2,
          2,
          2,
          2,
          2,
          3,
          3,
          3,
          2,
          2,
          2,
          2,
          2,
          2,
          3,
          3,
          3,
          2,
          2,
          1,
          2,
          2,
          2,
          2,
          2,
          1,
          1,
          2,
          2,
          2,
          2,
          1,
          1,
          2,
          2,
          2,
          2,
          2,
          2,
          2,
          2,
          2,
          2,
          2,
          2,
          2,
          2,
          2,
          2,
          2,
          3,
          3,
          3,
          3,
          3,
          3,
          3,
          3,
          3,
          2,
          2,
          2,
          2,
          2,
          3,
          3,
          3,
          4,
          3,
          2,
          3,
          3,
          3,
          2,
          2,
          2,
          1,
          1,
          1,
          1,
          1,
          1,
          2,
          2,
          2,
          2,
          2,
          2,
          2,
          2,
          2,
          2,
          2,
          3,
          3,
          3,
          3,
          3,
          3,
          3,
          2,
          3,
          4,
          3,
          3,
          2,
          2,
          2,
          2,
          2,
          2,
          2,
          3,
          3,
          3,
          2,
          2,
          2,
          2,
          2,
          2,
          2,
          1,
          1,
          1,
          2,
          2,
          2,
          0,
          0,
          0,
          0,
          0,
          0,
          0,
          0,
          0,
          0,
          0,
          0,
          0,
          0,
          0,
          0
         ],
         "yaxis": "y2"
        }
       ],
       "layout": {
        "template": {
         "data": {
          "bar": [
           {
            "error_x": {
             "color": "#2a3f5f"
            },
            "error_y": {
             "color": "#2a3f5f"
            },
            "marker": {
             "line": {
              "color": "#E5ECF6",
              "width": 0.5
             },
             "pattern": {
              "fillmode": "overlay",
              "size": 10,
              "solidity": 0.2
             }
            },
            "type": "bar"
           }
          ],
          "barpolar": [
           {
            "marker": {
             "line": {
              "color": "#E5ECF6",
              "width": 0.5
             },
             "pattern": {
              "fillmode": "overlay",
              "size": 10,
              "solidity": 0.2
             }
            },
            "type": "barpolar"
           }
          ],
          "carpet": [
           {
            "aaxis": {
             "endlinecolor": "#2a3f5f",
             "gridcolor": "white",
             "linecolor": "white",
             "minorgridcolor": "white",
             "startlinecolor": "#2a3f5f"
            },
            "baxis": {
             "endlinecolor": "#2a3f5f",
             "gridcolor": "white",
             "linecolor": "white",
             "minorgridcolor": "white",
             "startlinecolor": "#2a3f5f"
            },
            "type": "carpet"
           }
          ],
          "choropleth": [
           {
            "colorbar": {
             "outlinewidth": 0,
             "ticks": ""
            },
            "type": "choropleth"
           }
          ],
          "contour": [
           {
            "colorbar": {
             "outlinewidth": 0,
             "ticks": ""
            },
            "colorscale": [
             [
              0,
              "#0d0887"
             ],
             [
              0.1111111111111111,
              "#46039f"
             ],
             [
              0.2222222222222222,
              "#7201a8"
             ],
             [
              0.3333333333333333,
              "#9c179e"
             ],
             [
              0.4444444444444444,
              "#bd3786"
             ],
             [
              0.5555555555555556,
              "#d8576b"
             ],
             [
              0.6666666666666666,
              "#ed7953"
             ],
             [
              0.7777777777777778,
              "#fb9f3a"
             ],
             [
              0.8888888888888888,
              "#fdca26"
             ],
             [
              1,
              "#f0f921"
             ]
            ],
            "type": "contour"
           }
          ],
          "contourcarpet": [
           {
            "colorbar": {
             "outlinewidth": 0,
             "ticks": ""
            },
            "type": "contourcarpet"
           }
          ],
          "heatmap": [
           {
            "colorbar": {
             "outlinewidth": 0,
             "ticks": ""
            },
            "colorscale": [
             [
              0,
              "#0d0887"
             ],
             [
              0.1111111111111111,
              "#46039f"
             ],
             [
              0.2222222222222222,
              "#7201a8"
             ],
             [
              0.3333333333333333,
              "#9c179e"
             ],
             [
              0.4444444444444444,
              "#bd3786"
             ],
             [
              0.5555555555555556,
              "#d8576b"
             ],
             [
              0.6666666666666666,
              "#ed7953"
             ],
             [
              0.7777777777777778,
              "#fb9f3a"
             ],
             [
              0.8888888888888888,
              "#fdca26"
             ],
             [
              1,
              "#f0f921"
             ]
            ],
            "type": "heatmap"
           }
          ],
          "heatmapgl": [
           {
            "colorbar": {
             "outlinewidth": 0,
             "ticks": ""
            },
            "colorscale": [
             [
              0,
              "#0d0887"
             ],
             [
              0.1111111111111111,
              "#46039f"
             ],
             [
              0.2222222222222222,
              "#7201a8"
             ],
             [
              0.3333333333333333,
              "#9c179e"
             ],
             [
              0.4444444444444444,
              "#bd3786"
             ],
             [
              0.5555555555555556,
              "#d8576b"
             ],
             [
              0.6666666666666666,
              "#ed7953"
             ],
             [
              0.7777777777777778,
              "#fb9f3a"
             ],
             [
              0.8888888888888888,
              "#fdca26"
             ],
             [
              1,
              "#f0f921"
             ]
            ],
            "type": "heatmapgl"
           }
          ],
          "histogram": [
           {
            "marker": {
             "pattern": {
              "fillmode": "overlay",
              "size": 10,
              "solidity": 0.2
             }
            },
            "type": "histogram"
           }
          ],
          "histogram2d": [
           {
            "colorbar": {
             "outlinewidth": 0,
             "ticks": ""
            },
            "colorscale": [
             [
              0,
              "#0d0887"
             ],
             [
              0.1111111111111111,
              "#46039f"
             ],
             [
              0.2222222222222222,
              "#7201a8"
             ],
             [
              0.3333333333333333,
              "#9c179e"
             ],
             [
              0.4444444444444444,
              "#bd3786"
             ],
             [
              0.5555555555555556,
              "#d8576b"
             ],
             [
              0.6666666666666666,
              "#ed7953"
             ],
             [
              0.7777777777777778,
              "#fb9f3a"
             ],
             [
              0.8888888888888888,
              "#fdca26"
             ],
             [
              1,
              "#f0f921"
             ]
            ],
            "type": "histogram2d"
           }
          ],
          "histogram2dcontour": [
           {
            "colorbar": {
             "outlinewidth": 0,
             "ticks": ""
            },
            "colorscale": [
             [
              0,
              "#0d0887"
             ],
             [
              0.1111111111111111,
              "#46039f"
             ],
             [
              0.2222222222222222,
              "#7201a8"
             ],
             [
              0.3333333333333333,
              "#9c179e"
             ],
             [
              0.4444444444444444,
              "#bd3786"
             ],
             [
              0.5555555555555556,
              "#d8576b"
             ],
             [
              0.6666666666666666,
              "#ed7953"
             ],
             [
              0.7777777777777778,
              "#fb9f3a"
             ],
             [
              0.8888888888888888,
              "#fdca26"
             ],
             [
              1,
              "#f0f921"
             ]
            ],
            "type": "histogram2dcontour"
           }
          ],
          "mesh3d": [
           {
            "colorbar": {
             "outlinewidth": 0,
             "ticks": ""
            },
            "type": "mesh3d"
           }
          ],
          "parcoords": [
           {
            "line": {
             "colorbar": {
              "outlinewidth": 0,
              "ticks": ""
             }
            },
            "type": "parcoords"
           }
          ],
          "pie": [
           {
            "automargin": true,
            "type": "pie"
           }
          ],
          "scatter": [
           {
            "fillpattern": {
             "fillmode": "overlay",
             "size": 10,
             "solidity": 0.2
            },
            "type": "scatter"
           }
          ],
          "scatter3d": [
           {
            "line": {
             "colorbar": {
              "outlinewidth": 0,
              "ticks": ""
             }
            },
            "marker": {
             "colorbar": {
              "outlinewidth": 0,
              "ticks": ""
             }
            },
            "type": "scatter3d"
           }
          ],
          "scattercarpet": [
           {
            "marker": {
             "colorbar": {
              "outlinewidth": 0,
              "ticks": ""
             }
            },
            "type": "scattercarpet"
           }
          ],
          "scattergeo": [
           {
            "marker": {
             "colorbar": {
              "outlinewidth": 0,
              "ticks": ""
             }
            },
            "type": "scattergeo"
           }
          ],
          "scattergl": [
           {
            "marker": {
             "colorbar": {
              "outlinewidth": 0,
              "ticks": ""
             }
            },
            "type": "scattergl"
           }
          ],
          "scattermapbox": [
           {
            "marker": {
             "colorbar": {
              "outlinewidth": 0,
              "ticks": ""
             }
            },
            "type": "scattermapbox"
           }
          ],
          "scatterpolar": [
           {
            "marker": {
             "colorbar": {
              "outlinewidth": 0,
              "ticks": ""
             }
            },
            "type": "scatterpolar"
           }
          ],
          "scatterpolargl": [
           {
            "marker": {
             "colorbar": {
              "outlinewidth": 0,
              "ticks": ""
             }
            },
            "type": "scatterpolargl"
           }
          ],
          "scatterternary": [
           {
            "marker": {
             "colorbar": {
              "outlinewidth": 0,
              "ticks": ""
             }
            },
            "type": "scatterternary"
           }
          ],
          "surface": [
           {
            "colorbar": {
             "outlinewidth": 0,
             "ticks": ""
            },
            "colorscale": [
             [
              0,
              "#0d0887"
             ],
             [
              0.1111111111111111,
              "#46039f"
             ],
             [
              0.2222222222222222,
              "#7201a8"
             ],
             [
              0.3333333333333333,
              "#9c179e"
             ],
             [
              0.4444444444444444,
              "#bd3786"
             ],
             [
              0.5555555555555556,
              "#d8576b"
             ],
             [
              0.6666666666666666,
              "#ed7953"
             ],
             [
              0.7777777777777778,
              "#fb9f3a"
             ],
             [
              0.8888888888888888,
              "#fdca26"
             ],
             [
              1,
              "#f0f921"
             ]
            ],
            "type": "surface"
           }
          ],
          "table": [
           {
            "cells": {
             "fill": {
              "color": "#EBF0F8"
             },
             "line": {
              "color": "white"
             }
            },
            "header": {
             "fill": {
              "color": "#C8D4E3"
             },
             "line": {
              "color": "white"
             }
            },
            "type": "table"
           }
          ]
         },
         "layout": {
          "annotationdefaults": {
           "arrowcolor": "#2a3f5f",
           "arrowhead": 0,
           "arrowwidth": 1
          },
          "autotypenumbers": "strict",
          "coloraxis": {
           "colorbar": {
            "outlinewidth": 0,
            "ticks": ""
           }
          },
          "colorscale": {
           "diverging": [
            [
             0,
             "#8e0152"
            ],
            [
             0.1,
             "#c51b7d"
            ],
            [
             0.2,
             "#de77ae"
            ],
            [
             0.3,
             "#f1b6da"
            ],
            [
             0.4,
             "#fde0ef"
            ],
            [
             0.5,
             "#f7f7f7"
            ],
            [
             0.6,
             "#e6f5d0"
            ],
            [
             0.7,
             "#b8e186"
            ],
            [
             0.8,
             "#7fbc41"
            ],
            [
             0.9,
             "#4d9221"
            ],
            [
             1,
             "#276419"
            ]
           ],
           "sequential": [
            [
             0,
             "#0d0887"
            ],
            [
             0.1111111111111111,
             "#46039f"
            ],
            [
             0.2222222222222222,
             "#7201a8"
            ],
            [
             0.3333333333333333,
             "#9c179e"
            ],
            [
             0.4444444444444444,
             "#bd3786"
            ],
            [
             0.5555555555555556,
             "#d8576b"
            ],
            [
             0.6666666666666666,
             "#ed7953"
            ],
            [
             0.7777777777777778,
             "#fb9f3a"
            ],
            [
             0.8888888888888888,
             "#fdca26"
            ],
            [
             1,
             "#f0f921"
            ]
           ],
           "sequentialminus": [
            [
             0,
             "#0d0887"
            ],
            [
             0.1111111111111111,
             "#46039f"
            ],
            [
             0.2222222222222222,
             "#7201a8"
            ],
            [
             0.3333333333333333,
             "#9c179e"
            ],
            [
             0.4444444444444444,
             "#bd3786"
            ],
            [
             0.5555555555555556,
             "#d8576b"
            ],
            [
             0.6666666666666666,
             "#ed7953"
            ],
            [
             0.7777777777777778,
             "#fb9f3a"
            ],
            [
             0.8888888888888888,
             "#fdca26"
            ],
            [
             1,
             "#f0f921"
            ]
           ]
          },
          "colorway": [
           "#636efa",
           "#EF553B",
           "#00cc96",
           "#ab63fa",
           "#FFA15A",
           "#19d3f3",
           "#FF6692",
           "#B6E880",
           "#FF97FF",
           "#FECB52"
          ],
          "font": {
           "color": "#2a3f5f"
          },
          "geo": {
           "bgcolor": "white",
           "lakecolor": "white",
           "landcolor": "#E5ECF6",
           "showlakes": true,
           "showland": true,
           "subunitcolor": "white"
          },
          "hoverlabel": {
           "align": "left"
          },
          "hovermode": "closest",
          "mapbox": {
           "style": "light"
          },
          "paper_bgcolor": "white",
          "plot_bgcolor": "#E5ECF6",
          "polar": {
           "angularaxis": {
            "gridcolor": "white",
            "linecolor": "white",
            "ticks": ""
           },
           "bgcolor": "#E5ECF6",
           "radialaxis": {
            "gridcolor": "white",
            "linecolor": "white",
            "ticks": ""
           }
          },
          "scene": {
           "xaxis": {
            "backgroundcolor": "#E5ECF6",
            "gridcolor": "white",
            "gridwidth": 2,
            "linecolor": "white",
            "showbackground": true,
            "ticks": "",
            "zerolinecolor": "white"
           },
           "yaxis": {
            "backgroundcolor": "#E5ECF6",
            "gridcolor": "white",
            "gridwidth": 2,
            "linecolor": "white",
            "showbackground": true,
            "ticks": "",
            "zerolinecolor": "white"
           },
           "zaxis": {
            "backgroundcolor": "#E5ECF6",
            "gridcolor": "white",
            "gridwidth": 2,
            "linecolor": "white",
            "showbackground": true,
            "ticks": "",
            "zerolinecolor": "white"
           }
          },
          "shapedefaults": {
           "line": {
            "color": "#2a3f5f"
           }
          },
          "ternary": {
           "aaxis": {
            "gridcolor": "white",
            "linecolor": "white",
            "ticks": ""
           },
           "baxis": {
            "gridcolor": "white",
            "linecolor": "white",
            "ticks": ""
           },
           "bgcolor": "#E5ECF6",
           "caxis": {
            "gridcolor": "white",
            "linecolor": "white",
            "ticks": ""
           }
          },
          "title": {
           "x": 0.05
          },
          "xaxis": {
           "automargin": true,
           "gridcolor": "white",
           "linecolor": "white",
           "ticks": "",
           "title": {
            "standoff": 15
           },
           "zerolinecolor": "white",
           "zerolinewidth": 2
          },
          "yaxis": {
           "automargin": true,
           "gridcolor": "white",
           "linecolor": "white",
           "ticks": "",
           "title": {
            "standoff": 15
           },
           "zerolinecolor": "white",
           "zerolinewidth": 2
          }
         }
        },
        "title": {
         "text": "Temperature and Danger Level (Nov 2019 - Jun 2020)"
        },
        "xaxis": {
         "anchor": "y",
         "domain": [
          0,
          0.94
         ],
         "title": {
          "text": "Time"
         }
        },
        "yaxis": {
         "anchor": "x",
         "domain": [
          0,
          1
         ],
         "title": {
          "text": "Temperature mean (Celcius)"
         }
        },
        "yaxis2": {
         "anchor": "x",
         "overlaying": "y",
         "side": "right",
         "title": {
          "text": "Danger Level"
         }
        }
       }
      }
     },
     "metadata": {},
     "output_type": "display_data"
    }
   ],
   "source": [
    "import plotly.graph_objects as go\n",
    "from plotly.subplots import make_subplots\n",
    "\n",
    "# Filter the dataframe for the desired time period\n",
    "start_date = pd.to_datetime('2019-11-01')\n",
    "end_date = pd.to_datetime('2020-06-30')\n",
    "filtered_df = df_trollheimen[(df_trollheimen['time'] >= start_date) & (df_trollheimen['time'] <= end_date)]\n",
    "\n",
    "# Create subplots with two y-axes\n",
    "fig = make_subplots(specs=[[{\"secondary_y\": True}]])\n",
    "\n",
    "# Add traces for snowfall_sum and DangerLevel\n",
    "fig.add_trace(go.Scatter(x=filtered_df['time'], y=filtered_df['temp_2m_mean'], name='Temperature mean'),\n",
    "              secondary_y=False)\n",
    "fig.add_trace(go.Scatter(x=filtered_df['time'], y=filtered_df['DangerLevel'], name='Danger Level'),\n",
    "              secondary_y=True)\n",
    "\n",
    "# Set x-axis label\n",
    "fig.update_xaxes(title_text='Time')\n",
    "\n",
    "# Set y-axis labels\n",
    "fig.update_yaxes(title_text='Temperature mean (Celcius)', secondary_y=False)\n",
    "fig.update_yaxes(title_text='Danger Level', secondary_y=True)\n",
    "\n",
    "# Set chart title\n",
    "fig.update_layout(title='Temperature and Danger Level (Nov 2019 - Jun 2020)')\n",
    "\n",
    "# Show the plot\n",
    "fig.show()"
   ]
  },
  {
   "cell_type": "markdown",
   "metadata": {},
   "source": [
    "Interestingly enough some of the dips in temperature results in higher danger levels. This is however not very consistent, and I would suspect that this might be an indirect correlation based on some other factor. From what I remember avalanche levels do not actually rise when there is low temperatures (actually the opposite happens, as you can see in March of 2020)"
   ]
  }
 ],
 "metadata": {
  "kernelspec": {
   "display_name": "Python 3",
   "language": "python",
   "name": "python3"
  },
  "language_info": {
   "codemirror_mode": {
    "name": "ipython",
    "version": 3
   },
   "file_extension": ".py",
   "mimetype": "text/x-python",
   "name": "python",
   "nbconvert_exporter": "python",
   "pygments_lexer": "ipython3",
   "version": "3.10.12"
  }
 },
 "nbformat": 4,
 "nbformat_minor": 0
}
